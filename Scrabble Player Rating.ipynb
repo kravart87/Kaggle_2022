{
  "nbformat": 4,
  "nbformat_minor": 0,
  "metadata": {
    "colab": {
      "provenance": [],
      "collapsed_sections": [
        "SgTsh8kOdyHZ",
        "Z04urrXehAjD",
        "oIAaX7D7vpR8"
      ]
    },
    "kernelspec": {
      "name": "python3",
      "display_name": "Python 3"
    },
    "language_info": {
      "name": "python"
    }
  },
  "cells": [
    {
      "cell_type": "markdown",
      "source": [
        "## Загрузка и обзор содержания датасетов"
      ],
      "metadata": {
        "id": "xXSEjbHCcyLg"
      }
    },
    {
      "cell_type": "code",
      "source": [
        "import warnings\n",
        "warnings.filterwarnings('ignore')"
      ],
      "metadata": {
        "id": "RIhVbgDj0jc7"
      },
      "execution_count": null,
      "outputs": []
    },
    {
      "cell_type": "code",
      "source": [
        "import pandas as pd\n",
        "import numpy as np"
      ],
      "metadata": {
        "id": "DFiQ9WvYeFKK"
      },
      "execution_count": null,
      "outputs": []
    },
    {
      "cell_type": "markdown",
      "source": [
        "### **games.csv**"
      ],
      "metadata": {
        "id": "SgTsh8kOdyHZ"
      }
    },
    {
      "cell_type": "markdown",
      "source": [
        "*метаданные об играх (например, кто пошел первым, контроль времени)*"
      ],
      "metadata": {
        "id": "V812SjOGd2FH"
      }
    },
    {
      "cell_type": "code",
      "source": [
        "games_df = pd.read_csv('/content/drive/MyDrive/Kaggle/Scrabble Player/games.csv')\n",
        "print(games_df.shape)\n",
        "games_df.head()"
      ],
      "metadata": {
        "colab": {
          "base_uri": "https://localhost:8080/"
        },
        "id": "lWE9ijYSdb9i",
        "outputId": "5d298aae-1521-46f5-c25c-c3d643124e18"
      },
      "execution_count": null,
      "outputs": [
        {
          "output_type": "stream",
          "name": "stdout",
          "text": [
            "(72773, 12)\n"
          ]
        },
        {
          "output_type": "execute_result",
          "data": {
            "text/plain": [
              "   game_id      first time_control_name game_end_reason  winner  \\\n",
              "0        1  BetterBot           regular        STANDARD       1   \n",
              "1        2      Super           regular        STANDARD       1   \n",
              "2        3  BetterBot           regular        STANDARD       1   \n",
              "3        4  BetterBot           regular        RESIGNED       0   \n",
              "4        5    STEEBot           regular        STANDARD       0   \n",
              "\n",
              "            created_at lexicon  initial_time_seconds  increment_seconds  \\\n",
              "0  2022-08-26 03:38:49   NWL20                  1200                  0   \n",
              "1  2022-08-10 19:19:59   CSW21                  3600                  0   \n",
              "2  2022-09-04 08:04:27   CSW21                   900                  0   \n",
              "3  2022-09-12 02:36:19   CSW21                  3600                  0   \n",
              "4  2022-09-06 04:31:36   NWL20                  1200                  0   \n",
              "\n",
              "  rating_mode  max_overtime_minutes  game_duration_seconds  \n",
              "0      CASUAL                     1             674.844274  \n",
              "1       RATED                     1             364.214418  \n",
              "2       RATED                     5             492.268262  \n",
              "3      CASUAL                     1             350.861141  \n",
              "4      CASUAL                     1             642.688722  "
            ],
            "text/html": [
              "\n",
              "  <div id=\"df-3b66e648-75ae-47c7-8bb1-e8056784bcfe\">\n",
              "    <div class=\"colab-df-container\">\n",
              "      <div>\n",
              "<style scoped>\n",
              "    .dataframe tbody tr th:only-of-type {\n",
              "        vertical-align: middle;\n",
              "    }\n",
              "\n",
              "    .dataframe tbody tr th {\n",
              "        vertical-align: top;\n",
              "    }\n",
              "\n",
              "    .dataframe thead th {\n",
              "        text-align: right;\n",
              "    }\n",
              "</style>\n",
              "<table border=\"1\" class=\"dataframe\">\n",
              "  <thead>\n",
              "    <tr style=\"text-align: right;\">\n",
              "      <th></th>\n",
              "      <th>game_id</th>\n",
              "      <th>first</th>\n",
              "      <th>time_control_name</th>\n",
              "      <th>game_end_reason</th>\n",
              "      <th>winner</th>\n",
              "      <th>created_at</th>\n",
              "      <th>lexicon</th>\n",
              "      <th>initial_time_seconds</th>\n",
              "      <th>increment_seconds</th>\n",
              "      <th>rating_mode</th>\n",
              "      <th>max_overtime_minutes</th>\n",
              "      <th>game_duration_seconds</th>\n",
              "    </tr>\n",
              "  </thead>\n",
              "  <tbody>\n",
              "    <tr>\n",
              "      <th>0</th>\n",
              "      <td>1</td>\n",
              "      <td>BetterBot</td>\n",
              "      <td>regular</td>\n",
              "      <td>STANDARD</td>\n",
              "      <td>1</td>\n",
              "      <td>2022-08-26 03:38:49</td>\n",
              "      <td>NWL20</td>\n",
              "      <td>1200</td>\n",
              "      <td>0</td>\n",
              "      <td>CASUAL</td>\n",
              "      <td>1</td>\n",
              "      <td>674.844274</td>\n",
              "    </tr>\n",
              "    <tr>\n",
              "      <th>1</th>\n",
              "      <td>2</td>\n",
              "      <td>Super</td>\n",
              "      <td>regular</td>\n",
              "      <td>STANDARD</td>\n",
              "      <td>1</td>\n",
              "      <td>2022-08-10 19:19:59</td>\n",
              "      <td>CSW21</td>\n",
              "      <td>3600</td>\n",
              "      <td>0</td>\n",
              "      <td>RATED</td>\n",
              "      <td>1</td>\n",
              "      <td>364.214418</td>\n",
              "    </tr>\n",
              "    <tr>\n",
              "      <th>2</th>\n",
              "      <td>3</td>\n",
              "      <td>BetterBot</td>\n",
              "      <td>regular</td>\n",
              "      <td>STANDARD</td>\n",
              "      <td>1</td>\n",
              "      <td>2022-09-04 08:04:27</td>\n",
              "      <td>CSW21</td>\n",
              "      <td>900</td>\n",
              "      <td>0</td>\n",
              "      <td>RATED</td>\n",
              "      <td>5</td>\n",
              "      <td>492.268262</td>\n",
              "    </tr>\n",
              "    <tr>\n",
              "      <th>3</th>\n",
              "      <td>4</td>\n",
              "      <td>BetterBot</td>\n",
              "      <td>regular</td>\n",
              "      <td>RESIGNED</td>\n",
              "      <td>0</td>\n",
              "      <td>2022-09-12 02:36:19</td>\n",
              "      <td>CSW21</td>\n",
              "      <td>3600</td>\n",
              "      <td>0</td>\n",
              "      <td>CASUAL</td>\n",
              "      <td>1</td>\n",
              "      <td>350.861141</td>\n",
              "    </tr>\n",
              "    <tr>\n",
              "      <th>4</th>\n",
              "      <td>5</td>\n",
              "      <td>STEEBot</td>\n",
              "      <td>regular</td>\n",
              "      <td>STANDARD</td>\n",
              "      <td>0</td>\n",
              "      <td>2022-09-06 04:31:36</td>\n",
              "      <td>NWL20</td>\n",
              "      <td>1200</td>\n",
              "      <td>0</td>\n",
              "      <td>CASUAL</td>\n",
              "      <td>1</td>\n",
              "      <td>642.688722</td>\n",
              "    </tr>\n",
              "  </tbody>\n",
              "</table>\n",
              "</div>\n",
              "      <button class=\"colab-df-convert\" onclick=\"convertToInteractive('df-3b66e648-75ae-47c7-8bb1-e8056784bcfe')\"\n",
              "              title=\"Convert this dataframe to an interactive table.\"\n",
              "              style=\"display:none;\">\n",
              "        \n",
              "  <svg xmlns=\"http://www.w3.org/2000/svg\" height=\"24px\"viewBox=\"0 0 24 24\"\n",
              "       width=\"24px\">\n",
              "    <path d=\"M0 0h24v24H0V0z\" fill=\"none\"/>\n",
              "    <path d=\"M18.56 5.44l.94 2.06.94-2.06 2.06-.94-2.06-.94-.94-2.06-.94 2.06-2.06.94zm-11 1L8.5 8.5l.94-2.06 2.06-.94-2.06-.94L8.5 2.5l-.94 2.06-2.06.94zm10 10l.94 2.06.94-2.06 2.06-.94-2.06-.94-.94-2.06-.94 2.06-2.06.94z\"/><path d=\"M17.41 7.96l-1.37-1.37c-.4-.4-.92-.59-1.43-.59-.52 0-1.04.2-1.43.59L10.3 9.45l-7.72 7.72c-.78.78-.78 2.05 0 2.83L4 21.41c.39.39.9.59 1.41.59.51 0 1.02-.2 1.41-.59l7.78-7.78 2.81-2.81c.8-.78.8-2.07 0-2.86zM5.41 20L4 18.59l7.72-7.72 1.47 1.35L5.41 20z\"/>\n",
              "  </svg>\n",
              "      </button>\n",
              "      \n",
              "  <style>\n",
              "    .colab-df-container {\n",
              "      display:flex;\n",
              "      flex-wrap:wrap;\n",
              "      gap: 12px;\n",
              "    }\n",
              "\n",
              "    .colab-df-convert {\n",
              "      background-color: #E8F0FE;\n",
              "      border: none;\n",
              "      border-radius: 50%;\n",
              "      cursor: pointer;\n",
              "      display: none;\n",
              "      fill: #1967D2;\n",
              "      height: 32px;\n",
              "      padding: 0 0 0 0;\n",
              "      width: 32px;\n",
              "    }\n",
              "\n",
              "    .colab-df-convert:hover {\n",
              "      background-color: #E2EBFA;\n",
              "      box-shadow: 0px 1px 2px rgba(60, 64, 67, 0.3), 0px 1px 3px 1px rgba(60, 64, 67, 0.15);\n",
              "      fill: #174EA6;\n",
              "    }\n",
              "\n",
              "    [theme=dark] .colab-df-convert {\n",
              "      background-color: #3B4455;\n",
              "      fill: #D2E3FC;\n",
              "    }\n",
              "\n",
              "    [theme=dark] .colab-df-convert:hover {\n",
              "      background-color: #434B5C;\n",
              "      box-shadow: 0px 1px 3px 1px rgba(0, 0, 0, 0.15);\n",
              "      filter: drop-shadow(0px 1px 2px rgba(0, 0, 0, 0.3));\n",
              "      fill: #FFFFFF;\n",
              "    }\n",
              "  </style>\n",
              "\n",
              "      <script>\n",
              "        const buttonEl =\n",
              "          document.querySelector('#df-3b66e648-75ae-47c7-8bb1-e8056784bcfe button.colab-df-convert');\n",
              "        buttonEl.style.display =\n",
              "          google.colab.kernel.accessAllowed ? 'block' : 'none';\n",
              "\n",
              "        async function convertToInteractive(key) {\n",
              "          const element = document.querySelector('#df-3b66e648-75ae-47c7-8bb1-e8056784bcfe');\n",
              "          const dataTable =\n",
              "            await google.colab.kernel.invokeFunction('convertToInteractive',\n",
              "                                                     [key], {});\n",
              "          if (!dataTable) return;\n",
              "\n",
              "          const docLinkHtml = 'Like what you see? Visit the ' +\n",
              "            '<a target=\"_blank\" href=https://colab.research.google.com/notebooks/data_table.ipynb>data table notebook</a>'\n",
              "            + ' to learn more about interactive tables.';\n",
              "          element.innerHTML = '';\n",
              "          dataTable['output_type'] = 'display_data';\n",
              "          await google.colab.output.renderOutput(dataTable, element);\n",
              "          const docLink = document.createElement('div');\n",
              "          docLink.innerHTML = docLinkHtml;\n",
              "          element.appendChild(docLink);\n",
              "        }\n",
              "      </script>\n",
              "    </div>\n",
              "  </div>\n",
              "  "
            ]
          },
          "metadata": {},
          "execution_count": 94
        }
      ]
    },
    {
      "cell_type": "markdown",
      "source": [
        "* time_control_name - используемый контроль времени (\"regular\", \"rapid\", or \"blitz\")\n",
        "* initial_time_seconds - ограничение по времени, которое есть у каждого игрока в игре (определяется типом контроля времени)\n",
        "* increment_seconds - увеличение времени, которое каждый игрок получает каждый раз, когда играет ход\n",
        "* rating_mode - учитывается ли игра в рейтингах игроков или нет (\"RATED\", \"CASUAL\")\n",
        "* max_overtime_minutes - как далеко игроки могут пройти после первоначального лимита времени до истечения тайм-аута"
      ],
      "metadata": {
        "id": "151CUIvnebMT"
      }
    },
    {
      "cell_type": "code",
      "source": [
        "games_df.isnull().sum()"
      ],
      "metadata": {
        "colab": {
          "base_uri": "https://localhost:8080/"
        },
        "id": "cj09ibqFrsgk",
        "outputId": "0bf18711-494c-47f6-999b-16fcc37fb6a9"
      },
      "execution_count": null,
      "outputs": [
        {
          "output_type": "execute_result",
          "data": {
            "text/plain": [
              "game_id                  0\n",
              "first                    0\n",
              "time_control_name        0\n",
              "game_end_reason          0\n",
              "winner                   0\n",
              "created_at               0\n",
              "lexicon                  0\n",
              "initial_time_seconds     0\n",
              "increment_seconds        0\n",
              "rating_mode              0\n",
              "max_overtime_minutes     0\n",
              "game_duration_seconds    0\n",
              "dtype: int64"
            ]
          },
          "metadata": {},
          "execution_count": 95
        }
      ]
    },
    {
      "cell_type": "code",
      "source": [
        "print(games_df['created_at'].min(), '/', games_df['created_at'].max())"
      ],
      "metadata": {
        "colab": {
          "base_uri": "https://localhost:8080/"
        },
        "id": "ujS4QHLssHbB",
        "outputId": "bb36ba9a-0d19-4393-c9cb-ace5043594e4"
      },
      "execution_count": null,
      "outputs": [
        {
          "output_type": "stream",
          "name": "stdout",
          "text": [
            "2022-07-27 08:53:39 / 2022-09-23 17:21:29\n"
          ]
        }
      ]
    },
    {
      "cell_type": "code",
      "source": [
        "games_df[['time_control_name', 'game_end_reason', 'lexicon', 'rating_mode']].describe()"
      ],
      "metadata": {
        "colab": {
          "base_uri": "https://localhost:8080/"
        },
        "id": "p9SgrKGwq9Bl",
        "outputId": "6e24e5ca-c9c0-485a-c4a9-5affa15ca04f"
      },
      "execution_count": null,
      "outputs": [
        {
          "output_type": "execute_result",
          "data": {
            "text/plain": [
              "       time_control_name game_end_reason lexicon rating_mode\n",
              "count              72773           72773   72773       72773\n",
              "unique                 4               4       4           2\n",
              "top              regular        STANDARD   CSW21       RATED\n",
              "freq               60282           67987   44594       54076"
            ],
            "text/html": [
              "\n",
              "  <div id=\"df-b70c0c49-b362-4dfa-ab05-7c412a6ce892\">\n",
              "    <div class=\"colab-df-container\">\n",
              "      <div>\n",
              "<style scoped>\n",
              "    .dataframe tbody tr th:only-of-type {\n",
              "        vertical-align: middle;\n",
              "    }\n",
              "\n",
              "    .dataframe tbody tr th {\n",
              "        vertical-align: top;\n",
              "    }\n",
              "\n",
              "    .dataframe thead th {\n",
              "        text-align: right;\n",
              "    }\n",
              "</style>\n",
              "<table border=\"1\" class=\"dataframe\">\n",
              "  <thead>\n",
              "    <tr style=\"text-align: right;\">\n",
              "      <th></th>\n",
              "      <th>time_control_name</th>\n",
              "      <th>game_end_reason</th>\n",
              "      <th>lexicon</th>\n",
              "      <th>rating_mode</th>\n",
              "    </tr>\n",
              "  </thead>\n",
              "  <tbody>\n",
              "    <tr>\n",
              "      <th>count</th>\n",
              "      <td>72773</td>\n",
              "      <td>72773</td>\n",
              "      <td>72773</td>\n",
              "      <td>72773</td>\n",
              "    </tr>\n",
              "    <tr>\n",
              "      <th>unique</th>\n",
              "      <td>4</td>\n",
              "      <td>4</td>\n",
              "      <td>4</td>\n",
              "      <td>2</td>\n",
              "    </tr>\n",
              "    <tr>\n",
              "      <th>top</th>\n",
              "      <td>regular</td>\n",
              "      <td>STANDARD</td>\n",
              "      <td>CSW21</td>\n",
              "      <td>RATED</td>\n",
              "    </tr>\n",
              "    <tr>\n",
              "      <th>freq</th>\n",
              "      <td>60282</td>\n",
              "      <td>67987</td>\n",
              "      <td>44594</td>\n",
              "      <td>54076</td>\n",
              "    </tr>\n",
              "  </tbody>\n",
              "</table>\n",
              "</div>\n",
              "      <button class=\"colab-df-convert\" onclick=\"convertToInteractive('df-b70c0c49-b362-4dfa-ab05-7c412a6ce892')\"\n",
              "              title=\"Convert this dataframe to an interactive table.\"\n",
              "              style=\"display:none;\">\n",
              "        \n",
              "  <svg xmlns=\"http://www.w3.org/2000/svg\" height=\"24px\"viewBox=\"0 0 24 24\"\n",
              "       width=\"24px\">\n",
              "    <path d=\"M0 0h24v24H0V0z\" fill=\"none\"/>\n",
              "    <path d=\"M18.56 5.44l.94 2.06.94-2.06 2.06-.94-2.06-.94-.94-2.06-.94 2.06-2.06.94zm-11 1L8.5 8.5l.94-2.06 2.06-.94-2.06-.94L8.5 2.5l-.94 2.06-2.06.94zm10 10l.94 2.06.94-2.06 2.06-.94-2.06-.94-.94-2.06-.94 2.06-2.06.94z\"/><path d=\"M17.41 7.96l-1.37-1.37c-.4-.4-.92-.59-1.43-.59-.52 0-1.04.2-1.43.59L10.3 9.45l-7.72 7.72c-.78.78-.78 2.05 0 2.83L4 21.41c.39.39.9.59 1.41.59.51 0 1.02-.2 1.41-.59l7.78-7.78 2.81-2.81c.8-.78.8-2.07 0-2.86zM5.41 20L4 18.59l7.72-7.72 1.47 1.35L5.41 20z\"/>\n",
              "  </svg>\n",
              "      </button>\n",
              "      \n",
              "  <style>\n",
              "    .colab-df-container {\n",
              "      display:flex;\n",
              "      flex-wrap:wrap;\n",
              "      gap: 12px;\n",
              "    }\n",
              "\n",
              "    .colab-df-convert {\n",
              "      background-color: #E8F0FE;\n",
              "      border: none;\n",
              "      border-radius: 50%;\n",
              "      cursor: pointer;\n",
              "      display: none;\n",
              "      fill: #1967D2;\n",
              "      height: 32px;\n",
              "      padding: 0 0 0 0;\n",
              "      width: 32px;\n",
              "    }\n",
              "\n",
              "    .colab-df-convert:hover {\n",
              "      background-color: #E2EBFA;\n",
              "      box-shadow: 0px 1px 2px rgba(60, 64, 67, 0.3), 0px 1px 3px 1px rgba(60, 64, 67, 0.15);\n",
              "      fill: #174EA6;\n",
              "    }\n",
              "\n",
              "    [theme=dark] .colab-df-convert {\n",
              "      background-color: #3B4455;\n",
              "      fill: #D2E3FC;\n",
              "    }\n",
              "\n",
              "    [theme=dark] .colab-df-convert:hover {\n",
              "      background-color: #434B5C;\n",
              "      box-shadow: 0px 1px 3px 1px rgba(0, 0, 0, 0.15);\n",
              "      filter: drop-shadow(0px 1px 2px rgba(0, 0, 0, 0.3));\n",
              "      fill: #FFFFFF;\n",
              "    }\n",
              "  </style>\n",
              "\n",
              "      <script>\n",
              "        const buttonEl =\n",
              "          document.querySelector('#df-b70c0c49-b362-4dfa-ab05-7c412a6ce892 button.colab-df-convert');\n",
              "        buttonEl.style.display =\n",
              "          google.colab.kernel.accessAllowed ? 'block' : 'none';\n",
              "\n",
              "        async function convertToInteractive(key) {\n",
              "          const element = document.querySelector('#df-b70c0c49-b362-4dfa-ab05-7c412a6ce892');\n",
              "          const dataTable =\n",
              "            await google.colab.kernel.invokeFunction('convertToInteractive',\n",
              "                                                     [key], {});\n",
              "          if (!dataTable) return;\n",
              "\n",
              "          const docLinkHtml = 'Like what you see? Visit the ' +\n",
              "            '<a target=\"_blank\" href=https://colab.research.google.com/notebooks/data_table.ipynb>data table notebook</a>'\n",
              "            + ' to learn more about interactive tables.';\n",
              "          element.innerHTML = '';\n",
              "          dataTable['output_type'] = 'display_data';\n",
              "          await google.colab.output.renderOutput(dataTable, element);\n",
              "          const docLink = document.createElement('div');\n",
              "          docLink.innerHTML = docLinkHtml;\n",
              "          element.appendChild(docLink);\n",
              "        }\n",
              "      </script>\n",
              "    </div>\n",
              "  </div>\n",
              "  "
            ]
          },
          "metadata": {},
          "execution_count": 97
        }
      ]
    },
    {
      "cell_type": "markdown",
      "source": [
        "### **turns.csv**"
      ],
      "metadata": {
        "id": "Z04urrXehAjD"
      }
    },
    {
      "cell_type": "markdown",
      "source": [
        "*содержит полные данные для каждого хода для каждой игры*"
      ],
      "metadata": {
        "id": "AUapE8t8hFIK"
      }
    },
    {
      "cell_type": "code",
      "source": [
        "turns_df = pd.read_csv('/content/drive/MyDrive/Kaggle/Scrabble Player/turns.csv')\n",
        "print(turns_df.shape)\n",
        "turns_df.head()"
      ],
      "metadata": {
        "colab": {
          "base_uri": "https://localhost:8080/"
        },
        "id": "PU0FE_N_hKeh",
        "outputId": "ced152a0-32cd-42d9-df40-02f07fcb1231"
      },
      "execution_count": null,
      "outputs": [
        {
          "output_type": "stream",
          "name": "stdout",
          "text": [
            "(2005498, 9)\n"
          ]
        },
        {
          "output_type": "execute_result",
          "data": {
            "text/plain": [
              "   game_id  turn_number   nickname     rack location      move  points  score  \\\n",
              "0        1            1  BetterBot  DDEGITT       8G       DIG      10     10   \n",
              "1        1            2      stevy  AEHOPUX       7H       HAP      18     18   \n",
              "2        1            3  BetterBot  DEELTTU       6I      LUTE      16     26   \n",
              "3        1            4      stevy  EMORSUX       5K        UM      16     34   \n",
              "4        1            5  BetterBot  ACDEITU       L5  ..DICATE      28     54   \n",
              "\n",
              "  turn_type  \n",
              "0      Play  \n",
              "1      Play  \n",
              "2      Play  \n",
              "3      Play  \n",
              "4      Play  "
            ],
            "text/html": [
              "\n",
              "  <div id=\"df-e8600309-1599-4aec-8dab-a5f25b037bd0\">\n",
              "    <div class=\"colab-df-container\">\n",
              "      <div>\n",
              "<style scoped>\n",
              "    .dataframe tbody tr th:only-of-type {\n",
              "        vertical-align: middle;\n",
              "    }\n",
              "\n",
              "    .dataframe tbody tr th {\n",
              "        vertical-align: top;\n",
              "    }\n",
              "\n",
              "    .dataframe thead th {\n",
              "        text-align: right;\n",
              "    }\n",
              "</style>\n",
              "<table border=\"1\" class=\"dataframe\">\n",
              "  <thead>\n",
              "    <tr style=\"text-align: right;\">\n",
              "      <th></th>\n",
              "      <th>game_id</th>\n",
              "      <th>turn_number</th>\n",
              "      <th>nickname</th>\n",
              "      <th>rack</th>\n",
              "      <th>location</th>\n",
              "      <th>move</th>\n",
              "      <th>points</th>\n",
              "      <th>score</th>\n",
              "      <th>turn_type</th>\n",
              "    </tr>\n",
              "  </thead>\n",
              "  <tbody>\n",
              "    <tr>\n",
              "      <th>0</th>\n",
              "      <td>1</td>\n",
              "      <td>1</td>\n",
              "      <td>BetterBot</td>\n",
              "      <td>DDEGITT</td>\n",
              "      <td>8G</td>\n",
              "      <td>DIG</td>\n",
              "      <td>10</td>\n",
              "      <td>10</td>\n",
              "      <td>Play</td>\n",
              "    </tr>\n",
              "    <tr>\n",
              "      <th>1</th>\n",
              "      <td>1</td>\n",
              "      <td>2</td>\n",
              "      <td>stevy</td>\n",
              "      <td>AEHOPUX</td>\n",
              "      <td>7H</td>\n",
              "      <td>HAP</td>\n",
              "      <td>18</td>\n",
              "      <td>18</td>\n",
              "      <td>Play</td>\n",
              "    </tr>\n",
              "    <tr>\n",
              "      <th>2</th>\n",
              "      <td>1</td>\n",
              "      <td>3</td>\n",
              "      <td>BetterBot</td>\n",
              "      <td>DEELTTU</td>\n",
              "      <td>6I</td>\n",
              "      <td>LUTE</td>\n",
              "      <td>16</td>\n",
              "      <td>26</td>\n",
              "      <td>Play</td>\n",
              "    </tr>\n",
              "    <tr>\n",
              "      <th>3</th>\n",
              "      <td>1</td>\n",
              "      <td>4</td>\n",
              "      <td>stevy</td>\n",
              "      <td>EMORSUX</td>\n",
              "      <td>5K</td>\n",
              "      <td>UM</td>\n",
              "      <td>16</td>\n",
              "      <td>34</td>\n",
              "      <td>Play</td>\n",
              "    </tr>\n",
              "    <tr>\n",
              "      <th>4</th>\n",
              "      <td>1</td>\n",
              "      <td>5</td>\n",
              "      <td>BetterBot</td>\n",
              "      <td>ACDEITU</td>\n",
              "      <td>L5</td>\n",
              "      <td>..DICATE</td>\n",
              "      <td>28</td>\n",
              "      <td>54</td>\n",
              "      <td>Play</td>\n",
              "    </tr>\n",
              "  </tbody>\n",
              "</table>\n",
              "</div>\n",
              "      <button class=\"colab-df-convert\" onclick=\"convertToInteractive('df-e8600309-1599-4aec-8dab-a5f25b037bd0')\"\n",
              "              title=\"Convert this dataframe to an interactive table.\"\n",
              "              style=\"display:none;\">\n",
              "        \n",
              "  <svg xmlns=\"http://www.w3.org/2000/svg\" height=\"24px\"viewBox=\"0 0 24 24\"\n",
              "       width=\"24px\">\n",
              "    <path d=\"M0 0h24v24H0V0z\" fill=\"none\"/>\n",
              "    <path d=\"M18.56 5.44l.94 2.06.94-2.06 2.06-.94-2.06-.94-.94-2.06-.94 2.06-2.06.94zm-11 1L8.5 8.5l.94-2.06 2.06-.94-2.06-.94L8.5 2.5l-.94 2.06-2.06.94zm10 10l.94 2.06.94-2.06 2.06-.94-2.06-.94-.94-2.06-.94 2.06-2.06.94z\"/><path d=\"M17.41 7.96l-1.37-1.37c-.4-.4-.92-.59-1.43-.59-.52 0-1.04.2-1.43.59L10.3 9.45l-7.72 7.72c-.78.78-.78 2.05 0 2.83L4 21.41c.39.39.9.59 1.41.59.51 0 1.02-.2 1.41-.59l7.78-7.78 2.81-2.81c.8-.78.8-2.07 0-2.86zM5.41 20L4 18.59l7.72-7.72 1.47 1.35L5.41 20z\"/>\n",
              "  </svg>\n",
              "      </button>\n",
              "      \n",
              "  <style>\n",
              "    .colab-df-container {\n",
              "      display:flex;\n",
              "      flex-wrap:wrap;\n",
              "      gap: 12px;\n",
              "    }\n",
              "\n",
              "    .colab-df-convert {\n",
              "      background-color: #E8F0FE;\n",
              "      border: none;\n",
              "      border-radius: 50%;\n",
              "      cursor: pointer;\n",
              "      display: none;\n",
              "      fill: #1967D2;\n",
              "      height: 32px;\n",
              "      padding: 0 0 0 0;\n",
              "      width: 32px;\n",
              "    }\n",
              "\n",
              "    .colab-df-convert:hover {\n",
              "      background-color: #E2EBFA;\n",
              "      box-shadow: 0px 1px 2px rgba(60, 64, 67, 0.3), 0px 1px 3px 1px rgba(60, 64, 67, 0.15);\n",
              "      fill: #174EA6;\n",
              "    }\n",
              "\n",
              "    [theme=dark] .colab-df-convert {\n",
              "      background-color: #3B4455;\n",
              "      fill: #D2E3FC;\n",
              "    }\n",
              "\n",
              "    [theme=dark] .colab-df-convert:hover {\n",
              "      background-color: #434B5C;\n",
              "      box-shadow: 0px 1px 3px 1px rgba(0, 0, 0, 0.15);\n",
              "      filter: drop-shadow(0px 1px 2px rgba(0, 0, 0, 0.3));\n",
              "      fill: #FFFFFF;\n",
              "    }\n",
              "  </style>\n",
              "\n",
              "      <script>\n",
              "        const buttonEl =\n",
              "          document.querySelector('#df-e8600309-1599-4aec-8dab-a5f25b037bd0 button.colab-df-convert');\n",
              "        buttonEl.style.display =\n",
              "          google.colab.kernel.accessAllowed ? 'block' : 'none';\n",
              "\n",
              "        async function convertToInteractive(key) {\n",
              "          const element = document.querySelector('#df-e8600309-1599-4aec-8dab-a5f25b037bd0');\n",
              "          const dataTable =\n",
              "            await google.colab.kernel.invokeFunction('convertToInteractive',\n",
              "                                                     [key], {});\n",
              "          if (!dataTable) return;\n",
              "\n",
              "          const docLinkHtml = 'Like what you see? Visit the ' +\n",
              "            '<a target=\"_blank\" href=https://colab.research.google.com/notebooks/data_table.ipynb>data table notebook</a>'\n",
              "            + ' to learn more about interactive tables.';\n",
              "          element.innerHTML = '';\n",
              "          dataTable['output_type'] = 'display_data';\n",
              "          await google.colab.output.renderOutput(dataTable, element);\n",
              "          const docLink = document.createElement('div');\n",
              "          docLink.innerHTML = docLinkHtml;\n",
              "          element.appendChild(docLink);\n",
              "        }\n",
              "      </script>\n",
              "    </div>\n",
              "  </div>\n",
              "  "
            ]
          },
          "metadata": {},
          "execution_count": 98
        }
      ]
    },
    {
      "cell_type": "markdown",
      "source": [
        "* turn_number - номер хода\n",
        "* rack - текущая дощечка игрока\n",
        "* move - плитки, выложенные игроком (также зависят от turn_type)\n",
        "* points - заработанные или потерянные за ход очки\n",
        "* score - общий счет игрока на момент хода"
      ],
      "metadata": {
        "id": "jtuY8FvzhUgo"
      }
    },
    {
      "cell_type": "code",
      "source": [
        "turns_df.isnull().sum()"
      ],
      "metadata": {
        "colab": {
          "base_uri": "https://localhost:8080/"
        },
        "id": "8KYO6QZKtLjB",
        "outputId": "9e708786-5a44-4119-c87e-482dc05d33b7"
      },
      "execution_count": null,
      "outputs": [
        {
          "output_type": "execute_result",
          "data": {
            "text/plain": [
              "game_id             0\n",
              "turn_number         0\n",
              "nickname            0\n",
              "rack            69390\n",
              "location       132239\n",
              "move              454\n",
              "points              0\n",
              "score               0\n",
              "turn_type         395\n",
              "dtype: int64"
            ]
          },
          "metadata": {},
          "execution_count": 99
        }
      ]
    },
    {
      "cell_type": "code",
      "source": [
        "turns_df['location'].nunique()"
      ],
      "metadata": {
        "colab": {
          "base_uri": "https://localhost:8080/"
        },
        "id": "JBcLohmuwy-U",
        "outputId": "b27c1148-3210-4108-d374-44b1b364c831"
      },
      "execution_count": null,
      "outputs": [
        {
          "output_type": "execute_result",
          "data": {
            "text/plain": [
              "418"
            ]
          },
          "metadata": {},
          "execution_count": 100
        }
      ]
    },
    {
      "cell_type": "code",
      "source": [
        "turns_df['turn_type'].value_counts(normalize = True).round(4)"
      ],
      "metadata": {
        "colab": {
          "base_uri": "https://localhost:8080/"
        },
        "id": "Ijrh7AjntUr2",
        "outputId": "a7818e78-1cfd-422c-ec2d-a83fc5bf7f27"
      },
      "execution_count": null,
      "outputs": [
        {
          "output_type": "execute_result",
          "data": {
            "text/plain": [
              "Play             0.9340\n",
              "End              0.0339\n",
              "Exchange         0.0244\n",
              "Pass             0.0040\n",
              "Timeout          0.0021\n",
              "Challenge        0.0013\n",
              "Six-Zero Rule    0.0002\n",
              "Name: turn_type, dtype: float64"
            ]
          },
          "metadata": {},
          "execution_count": 101
        }
      ]
    },
    {
      "cell_type": "markdown",
      "source": [
        "### **test.csv / train.csv**"
      ],
      "metadata": {
        "id": "oIAaX7D7vpR8"
      }
    },
    {
      "cell_type": "markdown",
      "source": [
        "За исключением трех ботов, ни в train.csv, ни в test.csv нет игроков. Рейтинги игроков даны ДО того, как игра была сыграна. Задача состоит в том, чтобы предсказать, какой рейтинг игрока-человека был в test.csv ДО того, как была сыграна данная игра."
      ],
      "metadata": {
        "id": "aW5VPw-ev_w9"
      }
    },
    {
      "cell_type": "code",
      "source": [
        "train_df = pd.read_csv('/content/drive/MyDrive/Kaggle/Scrabble Player/train.csv')\n",
        "print(train_df.shape)\n",
        "train_df.head()"
      ],
      "metadata": {
        "colab": {
          "base_uri": "https://localhost:8080/"
        },
        "id": "9tsgldZHwIoN",
        "outputId": "0c4a2903-4790-4d8b-9b6b-629b9de8f656"
      },
      "execution_count": null,
      "outputs": [
        {
          "output_type": "stream",
          "name": "stdout",
          "text": [
            "(100820, 4)\n"
          ]
        },
        {
          "output_type": "execute_result",
          "data": {
            "text/plain": [
              "   game_id        nickname  score  rating\n",
              "0        1       BetterBot    335    1637\n",
              "1        1           stevy    429    1500\n",
              "2        3       davidavid    440    1811\n",
              "3        3       BetterBot    318    2071\n",
              "4        4  Inandoutworker    119    1473"
            ],
            "text/html": [
              "\n",
              "  <div id=\"df-cd96200a-d7d7-45c0-8224-8c0d85e42e5f\">\n",
              "    <div class=\"colab-df-container\">\n",
              "      <div>\n",
              "<style scoped>\n",
              "    .dataframe tbody tr th:only-of-type {\n",
              "        vertical-align: middle;\n",
              "    }\n",
              "\n",
              "    .dataframe tbody tr th {\n",
              "        vertical-align: top;\n",
              "    }\n",
              "\n",
              "    .dataframe thead th {\n",
              "        text-align: right;\n",
              "    }\n",
              "</style>\n",
              "<table border=\"1\" class=\"dataframe\">\n",
              "  <thead>\n",
              "    <tr style=\"text-align: right;\">\n",
              "      <th></th>\n",
              "      <th>game_id</th>\n",
              "      <th>nickname</th>\n",
              "      <th>score</th>\n",
              "      <th>rating</th>\n",
              "    </tr>\n",
              "  </thead>\n",
              "  <tbody>\n",
              "    <tr>\n",
              "      <th>0</th>\n",
              "      <td>1</td>\n",
              "      <td>BetterBot</td>\n",
              "      <td>335</td>\n",
              "      <td>1637</td>\n",
              "    </tr>\n",
              "    <tr>\n",
              "      <th>1</th>\n",
              "      <td>1</td>\n",
              "      <td>stevy</td>\n",
              "      <td>429</td>\n",
              "      <td>1500</td>\n",
              "    </tr>\n",
              "    <tr>\n",
              "      <th>2</th>\n",
              "      <td>3</td>\n",
              "      <td>davidavid</td>\n",
              "      <td>440</td>\n",
              "      <td>1811</td>\n",
              "    </tr>\n",
              "    <tr>\n",
              "      <th>3</th>\n",
              "      <td>3</td>\n",
              "      <td>BetterBot</td>\n",
              "      <td>318</td>\n",
              "      <td>2071</td>\n",
              "    </tr>\n",
              "    <tr>\n",
              "      <th>4</th>\n",
              "      <td>4</td>\n",
              "      <td>Inandoutworker</td>\n",
              "      <td>119</td>\n",
              "      <td>1473</td>\n",
              "    </tr>\n",
              "  </tbody>\n",
              "</table>\n",
              "</div>\n",
              "      <button class=\"colab-df-convert\" onclick=\"convertToInteractive('df-cd96200a-d7d7-45c0-8224-8c0d85e42e5f')\"\n",
              "              title=\"Convert this dataframe to an interactive table.\"\n",
              "              style=\"display:none;\">\n",
              "        \n",
              "  <svg xmlns=\"http://www.w3.org/2000/svg\" height=\"24px\"viewBox=\"0 0 24 24\"\n",
              "       width=\"24px\">\n",
              "    <path d=\"M0 0h24v24H0V0z\" fill=\"none\"/>\n",
              "    <path d=\"M18.56 5.44l.94 2.06.94-2.06 2.06-.94-2.06-.94-.94-2.06-.94 2.06-2.06.94zm-11 1L8.5 8.5l.94-2.06 2.06-.94-2.06-.94L8.5 2.5l-.94 2.06-2.06.94zm10 10l.94 2.06.94-2.06 2.06-.94-2.06-.94-.94-2.06-.94 2.06-2.06.94z\"/><path d=\"M17.41 7.96l-1.37-1.37c-.4-.4-.92-.59-1.43-.59-.52 0-1.04.2-1.43.59L10.3 9.45l-7.72 7.72c-.78.78-.78 2.05 0 2.83L4 21.41c.39.39.9.59 1.41.59.51 0 1.02-.2 1.41-.59l7.78-7.78 2.81-2.81c.8-.78.8-2.07 0-2.86zM5.41 20L4 18.59l7.72-7.72 1.47 1.35L5.41 20z\"/>\n",
              "  </svg>\n",
              "      </button>\n",
              "      \n",
              "  <style>\n",
              "    .colab-df-container {\n",
              "      display:flex;\n",
              "      flex-wrap:wrap;\n",
              "      gap: 12px;\n",
              "    }\n",
              "\n",
              "    .colab-df-convert {\n",
              "      background-color: #E8F0FE;\n",
              "      border: none;\n",
              "      border-radius: 50%;\n",
              "      cursor: pointer;\n",
              "      display: none;\n",
              "      fill: #1967D2;\n",
              "      height: 32px;\n",
              "      padding: 0 0 0 0;\n",
              "      width: 32px;\n",
              "    }\n",
              "\n",
              "    .colab-df-convert:hover {\n",
              "      background-color: #E2EBFA;\n",
              "      box-shadow: 0px 1px 2px rgba(60, 64, 67, 0.3), 0px 1px 3px 1px rgba(60, 64, 67, 0.15);\n",
              "      fill: #174EA6;\n",
              "    }\n",
              "\n",
              "    [theme=dark] .colab-df-convert {\n",
              "      background-color: #3B4455;\n",
              "      fill: #D2E3FC;\n",
              "    }\n",
              "\n",
              "    [theme=dark] .colab-df-convert:hover {\n",
              "      background-color: #434B5C;\n",
              "      box-shadow: 0px 1px 3px 1px rgba(0, 0, 0, 0.15);\n",
              "      filter: drop-shadow(0px 1px 2px rgba(0, 0, 0, 0.3));\n",
              "      fill: #FFFFFF;\n",
              "    }\n",
              "  </style>\n",
              "\n",
              "      <script>\n",
              "        const buttonEl =\n",
              "          document.querySelector('#df-cd96200a-d7d7-45c0-8224-8c0d85e42e5f button.colab-df-convert');\n",
              "        buttonEl.style.display =\n",
              "          google.colab.kernel.accessAllowed ? 'block' : 'none';\n",
              "\n",
              "        async function convertToInteractive(key) {\n",
              "          const element = document.querySelector('#df-cd96200a-d7d7-45c0-8224-8c0d85e42e5f');\n",
              "          const dataTable =\n",
              "            await google.colab.kernel.invokeFunction('convertToInteractive',\n",
              "                                                     [key], {});\n",
              "          if (!dataTable) return;\n",
              "\n",
              "          const docLinkHtml = 'Like what you see? Visit the ' +\n",
              "            '<a target=\"_blank\" href=https://colab.research.google.com/notebooks/data_table.ipynb>data table notebook</a>'\n",
              "            + ' to learn more about interactive tables.';\n",
              "          element.innerHTML = '';\n",
              "          dataTable['output_type'] = 'display_data';\n",
              "          await google.colab.output.renderOutput(dataTable, element);\n",
              "          const docLink = document.createElement('div');\n",
              "          docLink.innerHTML = docLinkHtml;\n",
              "          element.appendChild(docLink);\n",
              "        }\n",
              "      </script>\n",
              "    </div>\n",
              "  </div>\n",
              "  "
            ]
          },
          "metadata": {},
          "execution_count": 102
        }
      ]
    },
    {
      "cell_type": "code",
      "source": [
        "test_df = pd.read_csv('/content/drive/MyDrive/Kaggle/Scrabble Player/test.csv')\n",
        "print(test_df.shape)\n",
        "test_df.head()"
      ],
      "metadata": {
        "colab": {
          "base_uri": "https://localhost:8080/"
        },
        "id": "WAlmJjNq2P2a",
        "outputId": "66b421a3-bca8-487c-e68e-6b00fa58dfc8"
      },
      "execution_count": null,
      "outputs": [
        {
          "output_type": "stream",
          "name": "stdout",
          "text": [
            "(44726, 4)\n"
          ]
        },
        {
          "output_type": "execute_result",
          "data": {
            "text/plain": [
              "   game_id   nickname  score  rating\n",
              "0        2      Super    488     NaN\n",
              "1        2  BetterBot    401  2000.0\n",
              "2        7    STEEBot    377  2082.0\n",
              "3        7     Priya1    379     NaN\n",
              "4       11    STEEBot    334  1829.0"
            ],
            "text/html": [
              "\n",
              "  <div id=\"df-167125b4-3df4-4386-a054-2a7747c399f2\">\n",
              "    <div class=\"colab-df-container\">\n",
              "      <div>\n",
              "<style scoped>\n",
              "    .dataframe tbody tr th:only-of-type {\n",
              "        vertical-align: middle;\n",
              "    }\n",
              "\n",
              "    .dataframe tbody tr th {\n",
              "        vertical-align: top;\n",
              "    }\n",
              "\n",
              "    .dataframe thead th {\n",
              "        text-align: right;\n",
              "    }\n",
              "</style>\n",
              "<table border=\"1\" class=\"dataframe\">\n",
              "  <thead>\n",
              "    <tr style=\"text-align: right;\">\n",
              "      <th></th>\n",
              "      <th>game_id</th>\n",
              "      <th>nickname</th>\n",
              "      <th>score</th>\n",
              "      <th>rating</th>\n",
              "    </tr>\n",
              "  </thead>\n",
              "  <tbody>\n",
              "    <tr>\n",
              "      <th>0</th>\n",
              "      <td>2</td>\n",
              "      <td>Super</td>\n",
              "      <td>488</td>\n",
              "      <td>NaN</td>\n",
              "    </tr>\n",
              "    <tr>\n",
              "      <th>1</th>\n",
              "      <td>2</td>\n",
              "      <td>BetterBot</td>\n",
              "      <td>401</td>\n",
              "      <td>2000.0</td>\n",
              "    </tr>\n",
              "    <tr>\n",
              "      <th>2</th>\n",
              "      <td>7</td>\n",
              "      <td>STEEBot</td>\n",
              "      <td>377</td>\n",
              "      <td>2082.0</td>\n",
              "    </tr>\n",
              "    <tr>\n",
              "      <th>3</th>\n",
              "      <td>7</td>\n",
              "      <td>Priya1</td>\n",
              "      <td>379</td>\n",
              "      <td>NaN</td>\n",
              "    </tr>\n",
              "    <tr>\n",
              "      <th>4</th>\n",
              "      <td>11</td>\n",
              "      <td>STEEBot</td>\n",
              "      <td>334</td>\n",
              "      <td>1829.0</td>\n",
              "    </tr>\n",
              "  </tbody>\n",
              "</table>\n",
              "</div>\n",
              "      <button class=\"colab-df-convert\" onclick=\"convertToInteractive('df-167125b4-3df4-4386-a054-2a7747c399f2')\"\n",
              "              title=\"Convert this dataframe to an interactive table.\"\n",
              "              style=\"display:none;\">\n",
              "        \n",
              "  <svg xmlns=\"http://www.w3.org/2000/svg\" height=\"24px\"viewBox=\"0 0 24 24\"\n",
              "       width=\"24px\">\n",
              "    <path d=\"M0 0h24v24H0V0z\" fill=\"none\"/>\n",
              "    <path d=\"M18.56 5.44l.94 2.06.94-2.06 2.06-.94-2.06-.94-.94-2.06-.94 2.06-2.06.94zm-11 1L8.5 8.5l.94-2.06 2.06-.94-2.06-.94L8.5 2.5l-.94 2.06-2.06.94zm10 10l.94 2.06.94-2.06 2.06-.94-2.06-.94-.94-2.06-.94 2.06-2.06.94z\"/><path d=\"M17.41 7.96l-1.37-1.37c-.4-.4-.92-.59-1.43-.59-.52 0-1.04.2-1.43.59L10.3 9.45l-7.72 7.72c-.78.78-.78 2.05 0 2.83L4 21.41c.39.39.9.59 1.41.59.51 0 1.02-.2 1.41-.59l7.78-7.78 2.81-2.81c.8-.78.8-2.07 0-2.86zM5.41 20L4 18.59l7.72-7.72 1.47 1.35L5.41 20z\"/>\n",
              "  </svg>\n",
              "      </button>\n",
              "      \n",
              "  <style>\n",
              "    .colab-df-container {\n",
              "      display:flex;\n",
              "      flex-wrap:wrap;\n",
              "      gap: 12px;\n",
              "    }\n",
              "\n",
              "    .colab-df-convert {\n",
              "      background-color: #E8F0FE;\n",
              "      border: none;\n",
              "      border-radius: 50%;\n",
              "      cursor: pointer;\n",
              "      display: none;\n",
              "      fill: #1967D2;\n",
              "      height: 32px;\n",
              "      padding: 0 0 0 0;\n",
              "      width: 32px;\n",
              "    }\n",
              "\n",
              "    .colab-df-convert:hover {\n",
              "      background-color: #E2EBFA;\n",
              "      box-shadow: 0px 1px 2px rgba(60, 64, 67, 0.3), 0px 1px 3px 1px rgba(60, 64, 67, 0.15);\n",
              "      fill: #174EA6;\n",
              "    }\n",
              "\n",
              "    [theme=dark] .colab-df-convert {\n",
              "      background-color: #3B4455;\n",
              "      fill: #D2E3FC;\n",
              "    }\n",
              "\n",
              "    [theme=dark] .colab-df-convert:hover {\n",
              "      background-color: #434B5C;\n",
              "      box-shadow: 0px 1px 3px 1px rgba(0, 0, 0, 0.15);\n",
              "      filter: drop-shadow(0px 1px 2px rgba(0, 0, 0, 0.3));\n",
              "      fill: #FFFFFF;\n",
              "    }\n",
              "  </style>\n",
              "\n",
              "      <script>\n",
              "        const buttonEl =\n",
              "          document.querySelector('#df-167125b4-3df4-4386-a054-2a7747c399f2 button.colab-df-convert');\n",
              "        buttonEl.style.display =\n",
              "          google.colab.kernel.accessAllowed ? 'block' : 'none';\n",
              "\n",
              "        async function convertToInteractive(key) {\n",
              "          const element = document.querySelector('#df-167125b4-3df4-4386-a054-2a7747c399f2');\n",
              "          const dataTable =\n",
              "            await google.colab.kernel.invokeFunction('convertToInteractive',\n",
              "                                                     [key], {});\n",
              "          if (!dataTable) return;\n",
              "\n",
              "          const docLinkHtml = 'Like what you see? Visit the ' +\n",
              "            '<a target=\"_blank\" href=https://colab.research.google.com/notebooks/data_table.ipynb>data table notebook</a>'\n",
              "            + ' to learn more about interactive tables.';\n",
              "          element.innerHTML = '';\n",
              "          dataTable['output_type'] = 'display_data';\n",
              "          await google.colab.output.renderOutput(dataTable, element);\n",
              "          const docLink = document.createElement('div');\n",
              "          docLink.innerHTML = docLinkHtml;\n",
              "          element.appendChild(docLink);\n",
              "        }\n",
              "      </script>\n",
              "    </div>\n",
              "  </div>\n",
              "  "
            ]
          },
          "metadata": {},
          "execution_count": 103
        }
      ]
    },
    {
      "cell_type": "markdown",
      "source": [
        "## Разведочный анализ данных"
      ],
      "metadata": {
        "id": "fnx7oPQ_xCyO"
      }
    },
    {
      "cell_type": "code",
      "source": [
        "import matplotlib.pyplot as plt\n",
        "import seaborn as sns\n",
        "\n",
        "sns.set_style('darkgrid')"
      ],
      "metadata": {
        "id": "y5xULEtV-VeT"
      },
      "execution_count": null,
      "outputs": []
    },
    {
      "cell_type": "code",
      "source": [
        "from scipy.stats import spearmanr\n",
        "import scipy.stats as st"
      ],
      "metadata": {
        "id": "FLCd7BJFCXII"
      },
      "execution_count": null,
      "outputs": []
    },
    {
      "cell_type": "markdown",
      "source": [
        "Проведя анализ информации об играх, которая размещена на сайте woogles.io, можно сказать, что точная хронология событий не соблюдена и есть пропущенные игры. Таким образом, не стоит ориентироваться на величину изменения рейтинга от одной игры к следующей, так как этот признак будет некорректным.\n",
        "\n",
        "Первоночально, это не было очевидным и я планировал использовать данный показатель в совем исследовании.\n",
        "\n",
        "В таком случае, гипотезой, от которой буду оттакливаться в построении анализа будет предположение, что определенный уровень рейтинга стиль игры."
      ],
      "metadata": {
        "id": "pD-JfscI9SO4"
      }
    },
    {
      "cell_type": "markdown",
      "source": [
        "### **Рейтинг, результат, набранные очки**"
      ],
      "metadata": {
        "id": "0_wbeudLYPsV"
      }
    },
    {
      "cell_type": "code",
      "source": [
        "test_ids = test_df['game_id'].unique()\n",
        "bots_names = ['BetterBot', 'STEEBot', 'HastyBot']"
      ],
      "metadata": {
        "id": "3OMli9TcYyzw"
      },
      "execution_count": null,
      "outputs": []
    },
    {
      "cell_type": "code",
      "source": [
        "general_ratings = train_df.append(test_df)\n",
        "general_ratings = general_ratings.sort_values('game_id')\n",
        "general_ratings.head()"
      ],
      "metadata": {
        "colab": {
          "base_uri": "https://localhost:8080/",
          "height": 200
        },
        "id": "mWQK6-nM_p-3",
        "outputId": "1b9bbd89-fdfb-4073-8699-7ac039cafed3"
      },
      "execution_count": null,
      "outputs": [
        {
          "output_type": "execute_result",
          "data": {
            "text/plain": [
              "   game_id   nickname  score  rating\n",
              "0        1  BetterBot    335  1637.0\n",
              "1        1      stevy    429  1500.0\n",
              "1        2  BetterBot    401  2000.0\n",
              "0        2      Super    488     NaN\n",
              "3        3  BetterBot    318  2071.0"
            ],
            "text/html": [
              "\n",
              "  <div id=\"df-de7e1d59-4d2c-49e2-8cfe-d2b0746f8e60\">\n",
              "    <div class=\"colab-df-container\">\n",
              "      <div>\n",
              "<style scoped>\n",
              "    .dataframe tbody tr th:only-of-type {\n",
              "        vertical-align: middle;\n",
              "    }\n",
              "\n",
              "    .dataframe tbody tr th {\n",
              "        vertical-align: top;\n",
              "    }\n",
              "\n",
              "    .dataframe thead th {\n",
              "        text-align: right;\n",
              "    }\n",
              "</style>\n",
              "<table border=\"1\" class=\"dataframe\">\n",
              "  <thead>\n",
              "    <tr style=\"text-align: right;\">\n",
              "      <th></th>\n",
              "      <th>game_id</th>\n",
              "      <th>nickname</th>\n",
              "      <th>score</th>\n",
              "      <th>rating</th>\n",
              "    </tr>\n",
              "  </thead>\n",
              "  <tbody>\n",
              "    <tr>\n",
              "      <th>0</th>\n",
              "      <td>1</td>\n",
              "      <td>BetterBot</td>\n",
              "      <td>335</td>\n",
              "      <td>1637.0</td>\n",
              "    </tr>\n",
              "    <tr>\n",
              "      <th>1</th>\n",
              "      <td>1</td>\n",
              "      <td>stevy</td>\n",
              "      <td>429</td>\n",
              "      <td>1500.0</td>\n",
              "    </tr>\n",
              "    <tr>\n",
              "      <th>1</th>\n",
              "      <td>2</td>\n",
              "      <td>BetterBot</td>\n",
              "      <td>401</td>\n",
              "      <td>2000.0</td>\n",
              "    </tr>\n",
              "    <tr>\n",
              "      <th>0</th>\n",
              "      <td>2</td>\n",
              "      <td>Super</td>\n",
              "      <td>488</td>\n",
              "      <td>NaN</td>\n",
              "    </tr>\n",
              "    <tr>\n",
              "      <th>3</th>\n",
              "      <td>3</td>\n",
              "      <td>BetterBot</td>\n",
              "      <td>318</td>\n",
              "      <td>2071.0</td>\n",
              "    </tr>\n",
              "  </tbody>\n",
              "</table>\n",
              "</div>\n",
              "      <button class=\"colab-df-convert\" onclick=\"convertToInteractive('df-de7e1d59-4d2c-49e2-8cfe-d2b0746f8e60')\"\n",
              "              title=\"Convert this dataframe to an interactive table.\"\n",
              "              style=\"display:none;\">\n",
              "        \n",
              "  <svg xmlns=\"http://www.w3.org/2000/svg\" height=\"24px\"viewBox=\"0 0 24 24\"\n",
              "       width=\"24px\">\n",
              "    <path d=\"M0 0h24v24H0V0z\" fill=\"none\"/>\n",
              "    <path d=\"M18.56 5.44l.94 2.06.94-2.06 2.06-.94-2.06-.94-.94-2.06-.94 2.06-2.06.94zm-11 1L8.5 8.5l.94-2.06 2.06-.94-2.06-.94L8.5 2.5l-.94 2.06-2.06.94zm10 10l.94 2.06.94-2.06 2.06-.94-2.06-.94-.94-2.06-.94 2.06-2.06.94z\"/><path d=\"M17.41 7.96l-1.37-1.37c-.4-.4-.92-.59-1.43-.59-.52 0-1.04.2-1.43.59L10.3 9.45l-7.72 7.72c-.78.78-.78 2.05 0 2.83L4 21.41c.39.39.9.59 1.41.59.51 0 1.02-.2 1.41-.59l7.78-7.78 2.81-2.81c.8-.78.8-2.07 0-2.86zM5.41 20L4 18.59l7.72-7.72 1.47 1.35L5.41 20z\"/>\n",
              "  </svg>\n",
              "      </button>\n",
              "      \n",
              "  <style>\n",
              "    .colab-df-container {\n",
              "      display:flex;\n",
              "      flex-wrap:wrap;\n",
              "      gap: 12px;\n",
              "    }\n",
              "\n",
              "    .colab-df-convert {\n",
              "      background-color: #E8F0FE;\n",
              "      border: none;\n",
              "      border-radius: 50%;\n",
              "      cursor: pointer;\n",
              "      display: none;\n",
              "      fill: #1967D2;\n",
              "      height: 32px;\n",
              "      padding: 0 0 0 0;\n",
              "      width: 32px;\n",
              "    }\n",
              "\n",
              "    .colab-df-convert:hover {\n",
              "      background-color: #E2EBFA;\n",
              "      box-shadow: 0px 1px 2px rgba(60, 64, 67, 0.3), 0px 1px 3px 1px rgba(60, 64, 67, 0.15);\n",
              "      fill: #174EA6;\n",
              "    }\n",
              "\n",
              "    [theme=dark] .colab-df-convert {\n",
              "      background-color: #3B4455;\n",
              "      fill: #D2E3FC;\n",
              "    }\n",
              "\n",
              "    [theme=dark] .colab-df-convert:hover {\n",
              "      background-color: #434B5C;\n",
              "      box-shadow: 0px 1px 3px 1px rgba(0, 0, 0, 0.15);\n",
              "      filter: drop-shadow(0px 1px 2px rgba(0, 0, 0, 0.3));\n",
              "      fill: #FFFFFF;\n",
              "    }\n",
              "  </style>\n",
              "\n",
              "      <script>\n",
              "        const buttonEl =\n",
              "          document.querySelector('#df-de7e1d59-4d2c-49e2-8cfe-d2b0746f8e60 button.colab-df-convert');\n",
              "        buttonEl.style.display =\n",
              "          google.colab.kernel.accessAllowed ? 'block' : 'none';\n",
              "\n",
              "        async function convertToInteractive(key) {\n",
              "          const element = document.querySelector('#df-de7e1d59-4d2c-49e2-8cfe-d2b0746f8e60');\n",
              "          const dataTable =\n",
              "            await google.colab.kernel.invokeFunction('convertToInteractive',\n",
              "                                                     [key], {});\n",
              "          if (!dataTable) return;\n",
              "\n",
              "          const docLinkHtml = 'Like what you see? Visit the ' +\n",
              "            '<a target=\"_blank\" href=https://colab.research.google.com/notebooks/data_table.ipynb>data table notebook</a>'\n",
              "            + ' to learn more about interactive tables.';\n",
              "          element.innerHTML = '';\n",
              "          dataTable['output_type'] = 'display_data';\n",
              "          await google.colab.output.renderOutput(dataTable, element);\n",
              "          const docLink = document.createElement('div');\n",
              "          docLink.innerHTML = docLinkHtml;\n",
              "          element.appendChild(docLink);\n",
              "        }\n",
              "      </script>\n",
              "    </div>\n",
              "  </div>\n",
              "  "
            ]
          },
          "metadata": {},
          "execution_count": 105
        }
      ]
    },
    {
      "cell_type": "code",
      "source": [
        "only_players_ratings = general_ratings[~general_ratings['nickname'].isin(bots_names)]"
      ],
      "metadata": {
        "id": "HXBC7t2Mnfco"
      },
      "execution_count": null,
      "outputs": []
    },
    {
      "cell_type": "code",
      "source": [
        "plt.figure(figsize = (8, 5))\n",
        "plt.hist(only_players_ratings['rating'])\n",
        "plt.title('Значения рейтинга игроков', fontsize = 14)\n",
        "plt.xlabel('Рейтинг')\n",
        "plt.ylabel('Кол-во игр')\n",
        "plt.show()"
      ],
      "metadata": {
        "colab": {
          "base_uri": "https://localhost:8080/",
          "height": 351
        },
        "id": "h5Tgb31n_0K8",
        "outputId": "75bf988e-9a83-4dd4-ca63-9e8090ba4d48"
      },
      "execution_count": null,
      "outputs": [
        {
          "output_type": "display_data",
          "data": {
            "text/plain": [
              "<Figure size 576x360 with 1 Axes>"
            ],
            "image/png": "[encoded data removed]"
          },
          "metadata": {}
        }
      ]
    },
    {
      "cell_type": "markdown",
      "source": [
        "**Первая зависимоть, которую исследуем - взаимосвязь между количеством набранных очков и текущим рейтингом. Предполагаем наличие положительной корелляции.**"
      ],
      "metadata": {
        "id": "tlev6cG6DUZ3"
      }
    },
    {
      "cell_type": "code",
      "source": [
        "sns.scatterplot(data = only_players_ratings, x = 'score', y = 'rating')\n",
        "plt.title('Взаимосвязь рейтинга и набранных за игру очков')\n",
        "plt.xlabel('Набранные очки')\n",
        "plt.ylabel('Рейтинг перед игрой')\n",
        "plt.show()"
      ],
      "metadata": {
        "colab": {
          "base_uri": "https://localhost:8080/",
          "height": 295
        },
        "id": "fGmM40RoBfGi",
        "outputId": "80a285fd-9a57-461b-eda2-0fd99e118d49"
      },
      "execution_count": null,
      "outputs": [
        {
          "output_type": "display_data",
          "data": {
            "text/plain": [
              "<Figure size 432x288 with 1 Axes>"
            ],
            "image/png": "[encoded data removed]"
          },
          "metadata": {}
        }
      ]
    },
    {
      "cell_type": "code",
      "source": [
        "# Временный датасет бех тестовых данных, которые содержат пропуски.\n",
        "data_for_analysis = only_players_ratings[~only_players_ratings['game_id'].isin(test_ids)]\n",
        "\n",
        "rho, p = spearmanr(data_for_analysis['score'], data_for_analysis['rating'])\n",
        "print('Полученный к-т корреляции: {}'.format(round(rho, 2)))\n",
        "print('P-значение меньше 0.05: {}'.format(p < 0.05))"
      ],
      "metadata": {
        "id": "3_itnXOkXUs6",
        "colab": {
          "base_uri": "https://localhost:8080/"
        },
        "outputId": "d016a575-78a0-4b11-e593-e83d313942ba"
      },
      "execution_count": null,
      "outputs": [
        {
          "output_type": "stream",
          "name": "stdout",
          "text": [
            "Полученный к-т корреляции: 0.32\n",
            "P-значение меньше 0.05: True\n"
          ]
        }
      ]
    },
    {
      "cell_type": "markdown",
      "source": [
        "**Также, можно предположить, что игроки с более высоким рейтингом чаще выигрывают.**"
      ],
      "metadata": {
        "id": "izTCUiw1DnNN"
      }
    },
    {
      "cell_type": "code",
      "source": [
        "only_players_ratings = only_players_ratings.merge(games_df[['game_id', 'winner']], how = 'left', on = 'game_id')"
      ],
      "metadata": {
        "id": "mI8EWvtADu4K"
      },
      "execution_count": null,
      "outputs": []
    },
    {
      "cell_type": "code",
      "source": [
        "grid = sns.FacetGrid(only_players_ratings.query('winner>=0'), col = 'winner', height = 4, aspect = 1.1)\n",
        "grid.map(plt.hist, 'rating')\n",
        "grid.fig.suptitle('Рейтинги игроков в зависимости от результата', y = 1.05, fontsize = 12)\n",
        "grid.set_axis_labels('Рейтинг', 'Количество игр\\n')\n",
        "for attr, ax in grid.axes_dict.items():\n",
        "  if attr == 0:\n",
        "    ax.set_title('Рейтинг проигравших', fontsize = 10)\n",
        "  else:\n",
        "    ax.set_title('Рейтинг победителей', fontsize = 10)\n",
        "plt.show()"
      ],
      "metadata": {
        "colab": {
          "base_uri": "https://localhost:8080/",
          "height": 322
        },
        "id": "QU1zK7M3GxUp",
        "outputId": "73346822-0ea0-44cc-a016-d2c509fa04a4"
      },
      "execution_count": null,
      "outputs": [
        {
          "output_type": "display_data",
          "data": {
            "text/plain": [
              "<Figure size 633.6x288 with 2 Axes>"
            ],
            "image/png": "[encoded data removed]"
          },
          "metadata": {}
        }
      ]
    },
    {
      "cell_type": "code",
      "source": [
        "data_for_analysis = only_players_ratings[~only_players_ratings['game_id'].isin(test_ids)]\n",
        "\n",
        "winners = data_for_analysis.query('winner==1')['rating'].values\n",
        "losers = data_for_analysis.query('winner==0')['rating'].values"
      ],
      "metadata": {
        "id": "Ttjiz1dOkLcs"
      },
      "execution_count": null,
      "outputs": []
    },
    {
      "cell_type": "code",
      "source": [
        "st.t.interval(alpha=0.95, df = len(winners)-1, loc = np.mean(winners), \n",
        "              scale = st.sem(winners))"
      ],
      "metadata": {
        "colab": {
          "base_uri": "https://localhost:8080/"
        },
        "id": "UI_D_qHIj7Ss",
        "outputId": "d9034e60-159b-4fdf-d570-e2c4c4f5f0a8"
      },
      "execution_count": null,
      "outputs": [
        {
          "output_type": "execute_result",
          "data": {
            "text/plain": [
              "(1819.0585268318077, 1825.80411899694)"
            ]
          },
          "metadata": {},
          "execution_count": 35
        }
      ]
    },
    {
      "cell_type": "code",
      "source": [
        "st.t.interval(alpha=0.95, df = len(losers)-1, loc = np.mean(losers), \n",
        "              scale = st.sem(losers))"
      ],
      "metadata": {
        "colab": {
          "base_uri": "https://localhost:8080/"
        },
        "id": "gVlxee-HlZuc",
        "outputId": "4a7d7072-9119-4398-c16a-ef3fda83268e"
      },
      "execution_count": null,
      "outputs": [
        {
          "output_type": "execute_result",
          "data": {
            "text/plain": [
              "(1769.6741888352856, 1774.6301725548685)"
            ]
          },
          "metadata": {},
          "execution_count": 36
        }
      ]
    },
    {
      "cell_type": "code",
      "source": [
        "array_united = np.hstack([winners, losers])\n",
        "difference_of_averages = (np.mean(winners) - np.mean(losers))\n",
        "differences = []\n",
        "\n",
        "for iteration in range(1500):\n",
        "  array_permutation = np.random.permutation(array_united)\n",
        "  group_1 = array_permutation[:winners.shape[0]]\n",
        "  group_2 = array_permutation[winners.shape[0]:]\n",
        "  differences.append((np.mean(group_1) - np.mean(group_2)))\n",
        "\n",
        "plt.title('Результат перестановочного теста')\n",
        "plt.hist(differences)\n",
        "plt.axvline(difference_of_averages, color = 'red')\n",
        "plt.show()"
      ],
      "metadata": {
        "colab": {
          "base_uri": "https://localhost:8080/",
          "height": 281
        },
        "id": "wLAiw9v8IGLy",
        "outputId": "f0fb7198-a549-442e-a6f3-5c270ee8f32f"
      },
      "execution_count": null,
      "outputs": [
        {
          "output_type": "display_data",
          "data": {
            "text/plain": [
              "<Figure size 432x288 with 1 Axes>"
            ],
            "image/png": "[encoded data removed]"
          },
          "metadata": {}
        }
      ]
    },
    {
      "cell_type": "markdown",
      "source": [
        "**Далее, проверим, коррелирует ли разница в рейтинге с разницой в набранных очках**"
      ],
      "metadata": {
        "id": "26Y2pzbNMG1K"
      }
    },
    {
      "cell_type": "code",
      "source": [
        "only_players_ratings = only_players_ratings.merge(general_ratings[general_ratings['nickname'].isin(bots_names)]\n",
        "                                                  [['game_id', 'score', 'rating']], how = 'left', on = 'game_id')\n",
        "only_players_ratings.head()"
      ],
      "metadata": {
        "colab": {
          "base_uri": "https://localhost:8080/",
          "height": 200
        },
        "id": "T5znvvPosWSe",
        "outputId": "e1e85360-88ce-43b6-9524-d8d35c281b88"
      },
      "execution_count": null,
      "outputs": [
        {
          "output_type": "execute_result",
          "data": {
            "text/plain": [
              "   game_id        nickname  score_x  rating_x  winner  score_y  rating_y\n",
              "0        1           stevy      429    1500.0       1      335    1637.0\n",
              "1        2           Super      488       NaN       1      401    2000.0\n",
              "2        3       davidavid      440    1811.0       1      318    2071.0\n",
              "3        4  Inandoutworker      119    1473.0       0      478    1936.0\n",
              "4        5           stevy      325    1500.0       0      427    1844.0"
            ],
            "text/html": [
              "\n",
              "  <div id=\"df-9431fca0-3800-40c6-a588-67b1e6a189ea\">\n",
              "    <div class=\"colab-df-container\">\n",
              "      <div>\n",
              "<style scoped>\n",
              "    .dataframe tbody tr th:only-of-type {\n",
              "        vertical-align: middle;\n",
              "    }\n",
              "\n",
              "    .dataframe tbody tr th {\n",
              "        vertical-align: top;\n",
              "    }\n",
              "\n",
              "    .dataframe thead th {\n",
              "        text-align: right;\n",
              "    }\n",
              "</style>\n",
              "<table border=\"1\" class=\"dataframe\">\n",
              "  <thead>\n",
              "    <tr style=\"text-align: right;\">\n",
              "      <th></th>\n",
              "      <th>game_id</th>\n",
              "      <th>nickname</th>\n",
              "      <th>score_x</th>\n",
              "      <th>rating_x</th>\n",
              "      <th>winner</th>\n",
              "      <th>score_y</th>\n",
              "      <th>rating_y</th>\n",
              "    </tr>\n",
              "  </thead>\n",
              "  <tbody>\n",
              "    <tr>\n",
              "      <th>0</th>\n",
              "      <td>1</td>\n",
              "      <td>stevy</td>\n",
              "      <td>429</td>\n",
              "      <td>1500.0</td>\n",
              "      <td>1</td>\n",
              "      <td>335</td>\n",
              "      <td>1637.0</td>\n",
              "    </tr>\n",
              "    <tr>\n",
              "      <th>1</th>\n",
              "      <td>2</td>\n",
              "      <td>Super</td>\n",
              "      <td>488</td>\n",
              "      <td>NaN</td>\n",
              "      <td>1</td>\n",
              "      <td>401</td>\n",
              "      <td>2000.0</td>\n",
              "    </tr>\n",
              "    <tr>\n",
              "      <th>2</th>\n",
              "      <td>3</td>\n",
              "      <td>davidavid</td>\n",
              "      <td>440</td>\n",
              "      <td>1811.0</td>\n",
              "      <td>1</td>\n",
              "      <td>318</td>\n",
              "      <td>2071.0</td>\n",
              "    </tr>\n",
              "    <tr>\n",
              "      <th>3</th>\n",
              "      <td>4</td>\n",
              "      <td>Inandoutworker</td>\n",
              "      <td>119</td>\n",
              "      <td>1473.0</td>\n",
              "      <td>0</td>\n",
              "      <td>478</td>\n",
              "      <td>1936.0</td>\n",
              "    </tr>\n",
              "    <tr>\n",
              "      <th>4</th>\n",
              "      <td>5</td>\n",
              "      <td>stevy</td>\n",
              "      <td>325</td>\n",
              "      <td>1500.0</td>\n",
              "      <td>0</td>\n",
              "      <td>427</td>\n",
              "      <td>1844.0</td>\n",
              "    </tr>\n",
              "  </tbody>\n",
              "</table>\n",
              "</div>\n",
              "      <button class=\"colab-df-convert\" onclick=\"convertToInteractive('df-9431fca0-3800-40c6-a588-67b1e6a189ea')\"\n",
              "              title=\"Convert this dataframe to an interactive table.\"\n",
              "              style=\"display:none;\">\n",
              "        \n",
              "  <svg xmlns=\"http://www.w3.org/2000/svg\" height=\"24px\"viewBox=\"0 0 24 24\"\n",
              "       width=\"24px\">\n",
              "    <path d=\"M0 0h24v24H0V0z\" fill=\"none\"/>\n",
              "    <path d=\"M18.56 5.44l.94 2.06.94-2.06 2.06-.94-2.06-.94-.94-2.06-.94 2.06-2.06.94zm-11 1L8.5 8.5l.94-2.06 2.06-.94-2.06-.94L8.5 2.5l-.94 2.06-2.06.94zm10 10l.94 2.06.94-2.06 2.06-.94-2.06-.94-.94-2.06-.94 2.06-2.06.94z\"/><path d=\"M17.41 7.96l-1.37-1.37c-.4-.4-.92-.59-1.43-.59-.52 0-1.04.2-1.43.59L10.3 9.45l-7.72 7.72c-.78.78-.78 2.05 0 2.83L4 21.41c.39.39.9.59 1.41.59.51 0 1.02-.2 1.41-.59l7.78-7.78 2.81-2.81c.8-.78.8-2.07 0-2.86zM5.41 20L4 18.59l7.72-7.72 1.47 1.35L5.41 20z\"/>\n",
              "  </svg>\n",
              "      </button>\n",
              "      \n",
              "  <style>\n",
              "    .colab-df-container {\n",
              "      display:flex;\n",
              "      flex-wrap:wrap;\n",
              "      gap: 12px;\n",
              "    }\n",
              "\n",
              "    .colab-df-convert {\n",
              "      background-color: #E8F0FE;\n",
              "      border: none;\n",
              "      border-radius: 50%;\n",
              "      cursor: pointer;\n",
              "      display: none;\n",
              "      fill: #1967D2;\n",
              "      height: 32px;\n",
              "      padding: 0 0 0 0;\n",
              "      width: 32px;\n",
              "    }\n",
              "\n",
              "    .colab-df-convert:hover {\n",
              "      background-color: #E2EBFA;\n",
              "      box-shadow: 0px 1px 2px rgba(60, 64, 67, 0.3), 0px 1px 3px 1px rgba(60, 64, 67, 0.15);\n",
              "      fill: #174EA6;\n",
              "    }\n",
              "\n",
              "    [theme=dark] .colab-df-convert {\n",
              "      background-color: #3B4455;\n",
              "      fill: #D2E3FC;\n",
              "    }\n",
              "\n",
              "    [theme=dark] .colab-df-convert:hover {\n",
              "      background-color: #434B5C;\n",
              "      box-shadow: 0px 1px 3px 1px rgba(0, 0, 0, 0.15);\n",
              "      filter: drop-shadow(0px 1px 2px rgba(0, 0, 0, 0.3));\n",
              "      fill: #FFFFFF;\n",
              "    }\n",
              "  </style>\n",
              "\n",
              "      <script>\n",
              "        const buttonEl =\n",
              "          document.querySelector('#df-9431fca0-3800-40c6-a588-67b1e6a189ea button.colab-df-convert');\n",
              "        buttonEl.style.display =\n",
              "          google.colab.kernel.accessAllowed ? 'block' : 'none';\n",
              "\n",
              "        async function convertToInteractive(key) {\n",
              "          const element = document.querySelector('#df-9431fca0-3800-40c6-a588-67b1e6a189ea');\n",
              "          const dataTable =\n",
              "            await google.colab.kernel.invokeFunction('convertToInteractive',\n",
              "                                                     [key], {});\n",
              "          if (!dataTable) return;\n",
              "\n",
              "          const docLinkHtml = 'Like what you see? Visit the ' +\n",
              "            '<a target=\"_blank\" href=https://colab.research.google.com/notebooks/data_table.ipynb>data table notebook</a>'\n",
              "            + ' to learn more about interactive tables.';\n",
              "          element.innerHTML = '';\n",
              "          dataTable['output_type'] = 'display_data';\n",
              "          await google.colab.output.renderOutput(dataTable, element);\n",
              "          const docLink = document.createElement('div');\n",
              "          docLink.innerHTML = docLinkHtml;\n",
              "          element.appendChild(docLink);\n",
              "        }\n",
              "      </script>\n",
              "    </div>\n",
              "  </div>\n",
              "  "
            ]
          },
          "metadata": {},
          "execution_count": 111
        }
      ]
    },
    {
      "cell_type": "code",
      "source": [
        "rename_columns = {'score_x': 'player_score', 'score_y': 'bot_score', \n",
        "                  'rating_x': 'player_rating', 'rating_y': 'bot_rating'}\n",
        "only_players_ratings.rename(columns = rename_columns, inplace = True)"
      ],
      "metadata": {
        "id": "zNMTq_O3tB7d"
      },
      "execution_count": null,
      "outputs": []
    },
    {
      "cell_type": "code",
      "source": [
        "data_for_analysis = only_players_ratings[~only_players_ratings['game_id'].isin(test_ids)]\n",
        "\n",
        "scores_diff = (data_for_analysis['player_score'] - data_for_analysis['bot_score'])\n",
        "\n",
        "rating_diff = (data_for_analysis['player_rating'] - data_for_analysis['bot_rating'])\n",
        "\n",
        "sns.scatterplot(x = scores_diff, y = rating_diff)\n",
        "plt.title('Разница в рейтинге и разница в набранных очках')\n",
        "plt.xlabel('Разница в очках')\n",
        "plt.ylabel('Разница в рейтинге')\n",
        "plt.show()"
      ],
      "metadata": {
        "id": "qhj2N-DwMh0M",
        "colab": {
          "base_uri": "https://localhost:8080/",
          "height": 295
        },
        "outputId": "a311d638-83e1-4118-d894-9356fea88e24"
      },
      "execution_count": null,
      "outputs": [
        {
          "output_type": "display_data",
          "data": {
            "text/plain": [
              "<Figure size 432x288 with 1 Axes>"
            ],
            "image/png": "[encoded data removed]"
          },
          "metadata": {}
        }
      ]
    },
    {
      "cell_type": "code",
      "source": [
        "rho, p = spearmanr(scores_diff, rating_diff)\n",
        "print('Полученный к-т корреляции: {}'.format(round(rho, 2)))\n",
        "print('P-значение меньше 0.05: {}'.format(p < 0.05))"
      ],
      "metadata": {
        "colab": {
          "base_uri": "https://localhost:8080/"
        },
        "id": "7M3hLzpBPbB1",
        "outputId": "5c88546d-82d6-4002-f271-50eac80ff317"
      },
      "execution_count": null,
      "outputs": [
        {
          "output_type": "stream",
          "name": "stdout",
          "text": [
            "Полученный к-т корреляции: 0.34\n",
            "P-значение меньше 0.05: True\n"
          ]
        }
      ]
    },
    {
      "cell_type": "markdown",
      "source": [
        "### **Рейтинг и общие данные об игре** "
      ],
      "metadata": {
        "id": "fwDRwaq8g5Lk"
      }
    },
    {
      "cell_type": "markdown",
      "source": [
        "*В качестве дальнейшего анализа, будем использовать категориальные данные из датасета games_df для выявления дополнительных зависимостей*"
      ],
      "metadata": {
        "id": "kNdYjGD2VJut"
      }
    },
    {
      "cell_type": "markdown",
      "source": [
        "#### **Категориальные признаки**"
      ],
      "metadata": {
        "id": "fJ765_RLi-mx"
      }
    },
    {
      "cell_type": "code",
      "source": [
        "games_df.head()"
      ],
      "metadata": {
        "colab": {
          "base_uri": "https://localhost:8080/",
          "height": 345
        },
        "id": "cxxww8CKcNJ6",
        "outputId": "40c6c26a-2f46-45df-ef79-426d2e3f30df"
      },
      "execution_count": null,
      "outputs": [
        {
          "output_type": "execute_result",
          "data": {
            "text/plain": [
              "   game_id      first time_control_name game_end_reason  winner  \\\n",
              "0        1  BetterBot           regular        STANDARD       1   \n",
              "1        2      Super           regular        STANDARD       1   \n",
              "2        3  BetterBot           regular        STANDARD       1   \n",
              "3        4  BetterBot           regular        RESIGNED       0   \n",
              "4        5    STEEBot           regular        STANDARD       0   \n",
              "\n",
              "            created_at lexicon  initial_time_seconds  increment_seconds  \\\n",
              "0  2022-08-26 03:38:49   NWL20                  1200                  0   \n",
              "1  2022-08-10 19:19:59   CSW21                  3600                  0   \n",
              "2  2022-09-04 08:04:27   CSW21                   900                  0   \n",
              "3  2022-09-12 02:36:19   CSW21                  3600                  0   \n",
              "4  2022-09-06 04:31:36   NWL20                  1200                  0   \n",
              "\n",
              "  rating_mode  max_overtime_minutes  game_duration_seconds  \n",
              "0      CASUAL                     1             674.844274  \n",
              "1       RATED                     1             364.214418  \n",
              "2       RATED                     5             492.268262  \n",
              "3      CASUAL                     1             350.861141  \n",
              "4      CASUAL                     1             642.688722  "
            ],
            "text/html": [
              "\n",
              "  <div id=\"df-125997a6-653f-49fb-b224-a79dad4bbc26\">\n",
              "    <div class=\"colab-df-container\">\n",
              "      <div>\n",
              "<style scoped>\n",
              "    .dataframe tbody tr th:only-of-type {\n",
              "        vertical-align: middle;\n",
              "    }\n",
              "\n",
              "    .dataframe tbody tr th {\n",
              "        vertical-align: top;\n",
              "    }\n",
              "\n",
              "    .dataframe thead th {\n",
              "        text-align: right;\n",
              "    }\n",
              "</style>\n",
              "<table border=\"1\" class=\"dataframe\">\n",
              "  <thead>\n",
              "    <tr style=\"text-align: right;\">\n",
              "      <th></th>\n",
              "      <th>game_id</th>\n",
              "      <th>first</th>\n",
              "      <th>time_control_name</th>\n",
              "      <th>game_end_reason</th>\n",
              "      <th>winner</th>\n",
              "      <th>created_at</th>\n",
              "      <th>lexicon</th>\n",
              "      <th>initial_time_seconds</th>\n",
              "      <th>increment_seconds</th>\n",
              "      <th>rating_mode</th>\n",
              "      <th>max_overtime_minutes</th>\n",
              "      <th>game_duration_seconds</th>\n",
              "    </tr>\n",
              "  </thead>\n",
              "  <tbody>\n",
              "    <tr>\n",
              "      <th>0</th>\n",
              "      <td>1</td>\n",
              "      <td>BetterBot</td>\n",
              "      <td>regular</td>\n",
              "      <td>STANDARD</td>\n",
              "      <td>1</td>\n",
              "      <td>2022-08-26 03:38:49</td>\n",
              "      <td>NWL20</td>\n",
              "      <td>1200</td>\n",
              "      <td>0</td>\n",
              "      <td>CASUAL</td>\n",
              "      <td>1</td>\n",
              "      <td>674.844274</td>\n",
              "    </tr>\n",
              "    <tr>\n",
              "      <th>1</th>\n",
              "      <td>2</td>\n",
              "      <td>Super</td>\n",
              "      <td>regular</td>\n",
              "      <td>STANDARD</td>\n",
              "      <td>1</td>\n",
              "      <td>2022-08-10 19:19:59</td>\n",
              "      <td>CSW21</td>\n",
              "      <td>3600</td>\n",
              "      <td>0</td>\n",
              "      <td>RATED</td>\n",
              "      <td>1</td>\n",
              "      <td>364.214418</td>\n",
              "    </tr>\n",
              "    <tr>\n",
              "      <th>2</th>\n",
              "      <td>3</td>\n",
              "      <td>BetterBot</td>\n",
              "      <td>regular</td>\n",
              "      <td>STANDARD</td>\n",
              "      <td>1</td>\n",
              "      <td>2022-09-04 08:04:27</td>\n",
              "      <td>CSW21</td>\n",
              "      <td>900</td>\n",
              "      <td>0</td>\n",
              "      <td>RATED</td>\n",
              "      <td>5</td>\n",
              "      <td>492.268262</td>\n",
              "    </tr>\n",
              "    <tr>\n",
              "      <th>3</th>\n",
              "      <td>4</td>\n",
              "      <td>BetterBot</td>\n",
              "      <td>regular</td>\n",
              "      <td>RESIGNED</td>\n",
              "      <td>0</td>\n",
              "      <td>2022-09-12 02:36:19</td>\n",
              "      <td>CSW21</td>\n",
              "      <td>3600</td>\n",
              "      <td>0</td>\n",
              "      <td>CASUAL</td>\n",
              "      <td>1</td>\n",
              "      <td>350.861141</td>\n",
              "    </tr>\n",
              "    <tr>\n",
              "      <th>4</th>\n",
              "      <td>5</td>\n",
              "      <td>STEEBot</td>\n",
              "      <td>regular</td>\n",
              "      <td>STANDARD</td>\n",
              "      <td>0</td>\n",
              "      <td>2022-09-06 04:31:36</td>\n",
              "      <td>NWL20</td>\n",
              "      <td>1200</td>\n",
              "      <td>0</td>\n",
              "      <td>CASUAL</td>\n",
              "      <td>1</td>\n",
              "      <td>642.688722</td>\n",
              "    </tr>\n",
              "  </tbody>\n",
              "</table>\n",
              "</div>\n",
              "      <button class=\"colab-df-convert\" onclick=\"convertToInteractive('df-125997a6-653f-49fb-b224-a79dad4bbc26')\"\n",
              "              title=\"Convert this dataframe to an interactive table.\"\n",
              "              style=\"display:none;\">\n",
              "        \n",
              "  <svg xmlns=\"http://www.w3.org/2000/svg\" height=\"24px\"viewBox=\"0 0 24 24\"\n",
              "       width=\"24px\">\n",
              "    <path d=\"M0 0h24v24H0V0z\" fill=\"none\"/>\n",
              "    <path d=\"M18.56 5.44l.94 2.06.94-2.06 2.06-.94-2.06-.94-.94-2.06-.94 2.06-2.06.94zm-11 1L8.5 8.5l.94-2.06 2.06-.94-2.06-.94L8.5 2.5l-.94 2.06-2.06.94zm10 10l.94 2.06.94-2.06 2.06-.94-2.06-.94-.94-2.06-.94 2.06-2.06.94z\"/><path d=\"M17.41 7.96l-1.37-1.37c-.4-.4-.92-.59-1.43-.59-.52 0-1.04.2-1.43.59L10.3 9.45l-7.72 7.72c-.78.78-.78 2.05 0 2.83L4 21.41c.39.39.9.59 1.41.59.51 0 1.02-.2 1.41-.59l7.78-7.78 2.81-2.81c.8-.78.8-2.07 0-2.86zM5.41 20L4 18.59l7.72-7.72 1.47 1.35L5.41 20z\"/>\n",
              "  </svg>\n",
              "      </button>\n",
              "      \n",
              "  <style>\n",
              "    .colab-df-container {\n",
              "      display:flex;\n",
              "      flex-wrap:wrap;\n",
              "      gap: 12px;\n",
              "    }\n",
              "\n",
              "    .colab-df-convert {\n",
              "      background-color: #E8F0FE;\n",
              "      border: none;\n",
              "      border-radius: 50%;\n",
              "      cursor: pointer;\n",
              "      display: none;\n",
              "      fill: #1967D2;\n",
              "      height: 32px;\n",
              "      padding: 0 0 0 0;\n",
              "      width: 32px;\n",
              "    }\n",
              "\n",
              "    .colab-df-convert:hover {\n",
              "      background-color: #E2EBFA;\n",
              "      box-shadow: 0px 1px 2px rgba(60, 64, 67, 0.3), 0px 1px 3px 1px rgba(60, 64, 67, 0.15);\n",
              "      fill: #174EA6;\n",
              "    }\n",
              "\n",
              "    [theme=dark] .colab-df-convert {\n",
              "      background-color: #3B4455;\n",
              "      fill: #D2E3FC;\n",
              "    }\n",
              "\n",
              "    [theme=dark] .colab-df-convert:hover {\n",
              "      background-color: #434B5C;\n",
              "      box-shadow: 0px 1px 3px 1px rgba(0, 0, 0, 0.15);\n",
              "      filter: drop-shadow(0px 1px 2px rgba(0, 0, 0, 0.3));\n",
              "      fill: #FFFFFF;\n",
              "    }\n",
              "  </style>\n",
              "\n",
              "      <script>\n",
              "        const buttonEl =\n",
              "          document.querySelector('#df-125997a6-653f-49fb-b224-a79dad4bbc26 button.colab-df-convert');\n",
              "        buttonEl.style.display =\n",
              "          google.colab.kernel.accessAllowed ? 'block' : 'none';\n",
              "\n",
              "        async function convertToInteractive(key) {\n",
              "          const element = document.querySelector('#df-125997a6-653f-49fb-b224-a79dad4bbc26');\n",
              "          const dataTable =\n",
              "            await google.colab.kernel.invokeFunction('convertToInteractive',\n",
              "                                                     [key], {});\n",
              "          if (!dataTable) return;\n",
              "\n",
              "          const docLinkHtml = 'Like what you see? Visit the ' +\n",
              "            '<a target=\"_blank\" href=https://colab.research.google.com/notebooks/data_table.ipynb>data table notebook</a>'\n",
              "            + ' to learn more about interactive tables.';\n",
              "          element.innerHTML = '';\n",
              "          dataTable['output_type'] = 'display_data';\n",
              "          await google.colab.output.renderOutput(dataTable, element);\n",
              "          const docLink = document.createElement('div');\n",
              "          docLink.innerHTML = docLinkHtml;\n",
              "          element.appendChild(docLink);\n",
              "        }\n",
              "      </script>\n",
              "    </div>\n",
              "  </div>\n",
              "  "
            ]
          },
          "metadata": {},
          "execution_count": 43
        }
      ]
    },
    {
      "cell_type": "code",
      "source": [
        "categoricals = ['time_control_name', 'game_end_reason', 'lexicon', 'rating_mode']"
      ],
      "metadata": {
        "id": "upvElUv2VaZx"
      },
      "execution_count": null,
      "outputs": []
    },
    {
      "cell_type": "code",
      "source": [
        "only_players_ratings = only_players_ratings.merge(games_df[['game_id', 'lexicon']], how = 'left', on = 'game_id')\n",
        "\n",
        "plt.figure(figsize = (8, 5))\n",
        "sns.histplot(data = only_players_ratings, x = 'player_rating', hue = 'lexicon', bins = 20, palette = 'bright')\n",
        "plt.title('Рейтинг игроков в зависимости от значения признака \"lexicon\"', y = 1.02)\n",
        "plt.xlabel('Рейтинг')\n",
        "plt.ylabel('Количество игр')\n",
        "plt.show()"
      ],
      "metadata": {
        "colab": {
          "base_uri": "https://localhost:8080/",
          "height": 355
        },
        "id": "m9wqNs_iWCTP",
        "outputId": "ff03d04a-babe-4fc6-f6f4-d15762e703ae"
      },
      "execution_count": null,
      "outputs": [
        {
          "output_type": "display_data",
          "data": {
            "text/plain": [
              "<Figure size 576x360 with 1 Axes>"
            ],
            "image/png": "[encoded data removed]"
          },
          "metadata": {}
        }
      ]
    },
    {
      "cell_type": "code",
      "source": [
        "only_players_ratings = only_players_ratings.merge(games_df[['game_id', 'rating_mode']], how = 'left', on = 'game_id')\n",
        "\n",
        "plt.figure(figsize = (8, 5))\n",
        "sns.histplot(data = only_players_ratings, x = 'player_rating', hue = 'rating_mode', bins = 20, palette = 'deep')\n",
        "plt.title('Рейтинг игроков в зависимости от значения признака \"rating_mode\"', y = 1.02)\n",
        "plt.xlabel('Рейтинг')\n",
        "plt.ylabel('Количество игр')\n",
        "plt.show()"
      ],
      "metadata": {
        "colab": {
          "base_uri": "https://localhost:8080/",
          "height": 355
        },
        "id": "1xgLxb1DhFGy",
        "outputId": "8426667d-8cc7-4345-f2f3-652c08e74a0f"
      },
      "execution_count": null,
      "outputs": [
        {
          "output_type": "display_data",
          "data": {
            "text/plain": [
              "<Figure size 576x360 with 1 Axes>"
            ],
            "image/png": "[encoded data removed]"
          },
          "metadata": {}
        }
      ]
    },
    {
      "cell_type": "code",
      "source": [
        "only_players_ratings['rating_mode'] = only_players_ratings['rating_mode'].map({'RATED': 1, 'CASUAL': 0})"
      ],
      "metadata": {
        "id": "BHE63X1iipi9"
      },
      "execution_count": null,
      "outputs": []
    },
    {
      "cell_type": "code",
      "source": [
        "only_players_ratings = only_players_ratings.merge(games_df[['game_id', 'time_control_name']], how = 'left', on = 'game_id')\n",
        "\n",
        "plt.figure(figsize = (8, 5))\n",
        "sns.histplot(data = only_players_ratings, x = 'player_rating', hue = 'time_control_name', bins = 20, palette = 'deep')\n",
        "plt.title('Рейтинг игроков в зависимости от значения признака \"time_control_name\"', y = 1.02)\n",
        "plt.xlabel('Рейтинг')\n",
        "plt.ylabel('Количество игр')\n",
        "plt.show()"
      ],
      "metadata": {
        "colab": {
          "base_uri": "https://localhost:8080/",
          "height": 355
        },
        "id": "e-iGe3cJb5X0",
        "outputId": "18f7c0fd-14f5-430d-91b2-bd6a1c6a1a48"
      },
      "execution_count": null,
      "outputs": [
        {
          "output_type": "display_data",
          "data": {
            "text/plain": [
              "<Figure size 576x360 with 1 Axes>"
            ],
            "image/png": "[encoded data removed]"
          },
          "metadata": {}
        }
      ]
    },
    {
      "cell_type": "code",
      "source": [
        "only_players_ratings['regular_time'] = 0\n",
        "only_players_ratings.loc[only_players_ratings['time_control_name'] == 'regular', 'regular_time'] = 1\n",
        "only_players_ratings = only_players_ratings.drop('time_control_name', axis = 1)"
      ],
      "metadata": {
        "id": "3gxBhWi_i2P7"
      },
      "execution_count": null,
      "outputs": []
    },
    {
      "cell_type": "markdown",
      "source": [
        "#### **Числовые признаки**"
      ],
      "metadata": {
        "id": "bAx7j3zAjKGh"
      }
    },
    {
      "cell_type": "code",
      "source": [
        "numericals = ['initial_time_seconds', 'increment_seconds', 'max_overtime_minutes', 'game_duration_seconds']"
      ],
      "metadata": {
        "id": "5IKX3rjGcda_"
      },
      "execution_count": null,
      "outputs": []
    },
    {
      "cell_type": "code",
      "source": [
        "for col in numericals:\n",
        "  print('{} - {} уник. значений'.format(col, games_df[col].nunique()))"
      ],
      "metadata": {
        "colab": {
          "base_uri": "https://localhost:8080/"
        },
        "id": "IFlGOvrocolu",
        "outputId": "1adca5ac-1945-414e-f3f7-4b4864713f6f"
      },
      "execution_count": null,
      "outputs": [
        {
          "output_type": "stream",
          "name": "stdout",
          "text": [
            "initial_time_seconds - 34 уник. значений\n",
            "increment_seconds - 11 уник. значений\n",
            "max_overtime_minutes - 8 уник. значений\n",
            "game_duration_seconds - 72770 уник. значений\n"
          ]
        }
      ]
    },
    {
      "cell_type": "code",
      "source": [
        "games_df['increment_seconds'].value_counts(normalize = True)"
      ],
      "metadata": {
        "colab": {
          "base_uri": "https://localhost:8080/"
        },
        "id": "HdS_hHUmdDdD",
        "outputId": "d878439b-e548-4c60-99fb-082928a49a89"
      },
      "execution_count": null,
      "outputs": [
        {
          "output_type": "execute_result",
          "data": {
            "text/plain": [
              "0     0.969480\n",
              "1     0.011900\n",
              "5     0.007819\n",
              "10    0.007585\n",
              "60    0.001470\n",
              "3     0.000824\n",
              "7     0.000632\n",
              "15    0.000192\n",
              "59    0.000055\n",
              "2     0.000027\n",
              "30    0.000014\n",
              "Name: increment_seconds, dtype: float64"
            ]
          },
          "metadata": {},
          "execution_count": 62
        }
      ]
    },
    {
      "cell_type": "code",
      "source": [
        "games_df['max_overtime_minutes'].value_counts(normalize = True)"
      ],
      "metadata": {
        "colab": {
          "base_uri": "https://localhost:8080/"
        },
        "id": "o_sbj7qvdimB",
        "outputId": "e026b6b3-0c83-4d77-9f88-b9bb510245f3"
      },
      "execution_count": null,
      "outputs": [
        {
          "output_type": "execute_result",
          "data": {
            "text/plain": [
              "1     0.762439\n",
              "10    0.121762\n",
              "0     0.063032\n",
              "2     0.026617\n",
              "5     0.015102\n",
              "3     0.009344\n",
              "4     0.001676\n",
              "6     0.000027\n",
              "Name: max_overtime_minutes, dtype: float64"
            ]
          },
          "metadata": {},
          "execution_count": 63
        }
      ]
    },
    {
      "cell_type": "code",
      "source": [
        "only_players_ratings = only_players_ratings.merge(games_df[['game_id', 'max_overtime_minutes']], how = 'left', on = 'game_id')\n",
        "only_players_ratings['max_minutes_isOne'] = 0\n",
        "only_players_ratings.loc[only_players_ratings['max_overtime_minutes'] == 1, 'max_minutes_isOne'] = 1\n",
        "only_players_ratings = only_players_ratings.drop('max_overtime_minutes', axis = 1)"
      ],
      "metadata": {
        "id": "nN-OZvjodvje"
      },
      "execution_count": null,
      "outputs": []
    },
    {
      "cell_type": "code",
      "source": [
        "plt.figure(figsize = (8, 5))\n",
        "sns.histplot(data = only_players_ratings, x = 'player_rating', hue = 'max_minutes_isOne', bins = 20, palette = 'deep')\n",
        "plt.title('Рейтинг игроков в зависимости от значения признака \"max_minutes_isOne\"', y = 1.02)\n",
        "plt.xlabel('Рейтинг')\n",
        "plt.ylabel('Количество игр')\n",
        "plt.show()"
      ],
      "metadata": {
        "colab": {
          "base_uri": "https://localhost:8080/",
          "height": 355
        },
        "id": "QAjCeVWrwxAO",
        "outputId": "ffedd83c-4cfa-4379-adf2-7d558171f9ff"
      },
      "execution_count": null,
      "outputs": [
        {
          "output_type": "display_data",
          "data": {
            "text/plain": [
              "<Figure size 576x360 with 1 Axes>"
            ],
            "image/png": "[encoded data removed]"
          },
          "metadata": {}
        }
      ]
    },
    {
      "cell_type": "code",
      "source": [
        "only_players_ratings.groupby('max_minutes_isOne')['player_rating'].agg(['mean', 'median', 'max'])"
      ],
      "metadata": {
        "colab": {
          "base_uri": "https://localhost:8080/",
          "height": 138
        },
        "id": "Yt7JQIsdeHny",
        "outputId": "73c038f0-db53-42f9-f8c3-ab272b06c17d"
      },
      "execution_count": null,
      "outputs": [
        {
          "output_type": "execute_result",
          "data": {
            "text/plain": [
              "                          mean  median     max\n",
              "max_minutes_isOne                             \n",
              "0                  1667.735760  1500.0  2299.0\n",
              "1                  1832.419865  1853.0  2510.0"
            ],
            "text/html": [
              "\n",
              "  <div id=\"df-178a631f-f1e2-40df-82c5-1cd098b3edf4\">\n",
              "    <div class=\"colab-df-container\">\n",
              "      <div>\n",
              "<style scoped>\n",
              "    .dataframe tbody tr th:only-of-type {\n",
              "        vertical-align: middle;\n",
              "    }\n",
              "\n",
              "    .dataframe tbody tr th {\n",
              "        vertical-align: top;\n",
              "    }\n",
              "\n",
              "    .dataframe thead th {\n",
              "        text-align: right;\n",
              "    }\n",
              "</style>\n",
              "<table border=\"1\" class=\"dataframe\">\n",
              "  <thead>\n",
              "    <tr style=\"text-align: right;\">\n",
              "      <th></th>\n",
              "      <th>mean</th>\n",
              "      <th>median</th>\n",
              "      <th>max</th>\n",
              "    </tr>\n",
              "    <tr>\n",
              "      <th>max_minutes_isOne</th>\n",
              "      <th></th>\n",
              "      <th></th>\n",
              "      <th></th>\n",
              "    </tr>\n",
              "  </thead>\n",
              "  <tbody>\n",
              "    <tr>\n",
              "      <th>0</th>\n",
              "      <td>1667.735760</td>\n",
              "      <td>1500.0</td>\n",
              "      <td>2299.0</td>\n",
              "    </tr>\n",
              "    <tr>\n",
              "      <th>1</th>\n",
              "      <td>1832.419865</td>\n",
              "      <td>1853.0</td>\n",
              "      <td>2510.0</td>\n",
              "    </tr>\n",
              "  </tbody>\n",
              "</table>\n",
              "</div>\n",
              "      <button class=\"colab-df-convert\" onclick=\"convertToInteractive('df-178a631f-f1e2-40df-82c5-1cd098b3edf4')\"\n",
              "              title=\"Convert this dataframe to an interactive table.\"\n",
              "              style=\"display:none;\">\n",
              "        \n",
              "  <svg xmlns=\"http://www.w3.org/2000/svg\" height=\"24px\"viewBox=\"0 0 24 24\"\n",
              "       width=\"24px\">\n",
              "    <path d=\"M0 0h24v24H0V0z\" fill=\"none\"/>\n",
              "    <path d=\"M18.56 5.44l.94 2.06.94-2.06 2.06-.94-2.06-.94-.94-2.06-.94 2.06-2.06.94zm-11 1L8.5 8.5l.94-2.06 2.06-.94-2.06-.94L8.5 2.5l-.94 2.06-2.06.94zm10 10l.94 2.06.94-2.06 2.06-.94-2.06-.94-.94-2.06-.94 2.06-2.06.94z\"/><path d=\"M17.41 7.96l-1.37-1.37c-.4-.4-.92-.59-1.43-.59-.52 0-1.04.2-1.43.59L10.3 9.45l-7.72 7.72c-.78.78-.78 2.05 0 2.83L4 21.41c.39.39.9.59 1.41.59.51 0 1.02-.2 1.41-.59l7.78-7.78 2.81-2.81c.8-.78.8-2.07 0-2.86zM5.41 20L4 18.59l7.72-7.72 1.47 1.35L5.41 20z\"/>\n",
              "  </svg>\n",
              "      </button>\n",
              "      \n",
              "  <style>\n",
              "    .colab-df-container {\n",
              "      display:flex;\n",
              "      flex-wrap:wrap;\n",
              "      gap: 12px;\n",
              "    }\n",
              "\n",
              "    .colab-df-convert {\n",
              "      background-color: #E8F0FE;\n",
              "      border: none;\n",
              "      border-radius: 50%;\n",
              "      cursor: pointer;\n",
              "      display: none;\n",
              "      fill: #1967D2;\n",
              "      height: 32px;\n",
              "      padding: 0 0 0 0;\n",
              "      width: 32px;\n",
              "    }\n",
              "\n",
              "    .colab-df-convert:hover {\n",
              "      background-color: #E2EBFA;\n",
              "      box-shadow: 0px 1px 2px rgba(60, 64, 67, 0.3), 0px 1px 3px 1px rgba(60, 64, 67, 0.15);\n",
              "      fill: #174EA6;\n",
              "    }\n",
              "\n",
              "    [theme=dark] .colab-df-convert {\n",
              "      background-color: #3B4455;\n",
              "      fill: #D2E3FC;\n",
              "    }\n",
              "\n",
              "    [theme=dark] .colab-df-convert:hover {\n",
              "      background-color: #434B5C;\n",
              "      box-shadow: 0px 1px 3px 1px rgba(0, 0, 0, 0.15);\n",
              "      filter: drop-shadow(0px 1px 2px rgba(0, 0, 0, 0.3));\n",
              "      fill: #FFFFFF;\n",
              "    }\n",
              "  </style>\n",
              "\n",
              "      <script>\n",
              "        const buttonEl =\n",
              "          document.querySelector('#df-178a631f-f1e2-40df-82c5-1cd098b3edf4 button.colab-df-convert');\n",
              "        buttonEl.style.display =\n",
              "          google.colab.kernel.accessAllowed ? 'block' : 'none';\n",
              "\n",
              "        async function convertToInteractive(key) {\n",
              "          const element = document.querySelector('#df-178a631f-f1e2-40df-82c5-1cd098b3edf4');\n",
              "          const dataTable =\n",
              "            await google.colab.kernel.invokeFunction('convertToInteractive',\n",
              "                                                     [key], {});\n",
              "          if (!dataTable) return;\n",
              "\n",
              "          const docLinkHtml = 'Like what you see? Visit the ' +\n",
              "            '<a target=\"_blank\" href=https://colab.research.google.com/notebooks/data_table.ipynb>data table notebook</a>'\n",
              "            + ' to learn more about interactive tables.';\n",
              "          element.innerHTML = '';\n",
              "          dataTable['output_type'] = 'display_data';\n",
              "          await google.colab.output.renderOutput(dataTable, element);\n",
              "          const docLink = document.createElement('div');\n",
              "          docLink.innerHTML = docLinkHtml;\n",
              "          element.appendChild(docLink);\n",
              "        }\n",
              "      </script>\n",
              "    </div>\n",
              "  </div>\n",
              "  "
            ]
          },
          "metadata": {},
          "execution_count": 124
        }
      ]
    },
    {
      "cell_type": "code",
      "source": [
        "only_players_ratings = only_players_ratings.merge(games_df[['game_id', 'game_duration_seconds']], how = 'left', on = 'game_id')\n",
        "\n",
        "sns.scatterplot(data = only_players_ratings, x = 'player_rating', y = 'game_duration_seconds')\n",
        "plt.title('Рейтинг игроков и продолжительность игры')\n",
        "plt.xlabel('Рейтинг')\n",
        "plt.ylabel('Длительность игры')\n",
        "plt.show()"
      ],
      "metadata": {
        "colab": {
          "base_uri": "https://localhost:8080/",
          "height": 295
        },
        "id": "gWmPMfdyeZHo",
        "outputId": "1cfc00e6-549a-41f8-f218-9827daf96fa5"
      },
      "execution_count": null,
      "outputs": [
        {
          "output_type": "display_data",
          "data": {
            "text/plain": [
              "<Figure size 432x288 with 1 Axes>"
            ],
            "image/png": "[encoded data removed]"
          },
          "metadata": {}
        }
      ]
    },
    {
      "cell_type": "code",
      "source": [
        "only_players_ratings = only_players_ratings.merge(games_df[['game_id', 'initial_time_seconds']], how = 'left', on = 'game_id')\n",
        "\n",
        "sns.scatterplot(data = only_players_ratings, x = 'player_rating', y = 'initial_time_seconds')\n",
        "plt.title('Рейтинг игроков и показатель \"initial_time_seconds\"')\n",
        "plt.xlabel('Рейтинг')\n",
        "plt.ylabel('initial_time_seconds')\n",
        "plt.show()"
      ],
      "metadata": {
        "colab": {
          "base_uri": "https://localhost:8080/",
          "height": 295
        },
        "id": "nl5xnjIjfOO4",
        "outputId": "68e3fb62-e013-47dd-a47d-f3ad9417acff"
      },
      "execution_count": null,
      "outputs": [
        {
          "output_type": "display_data",
          "data": {
            "text/plain": [
              "<Figure size 432x288 with 1 Axes>"
            ],
            "image/png": "[encoded data removed]"
          },
          "metadata": {}
        }
      ]
    },
    {
      "cell_type": "code",
      "source": [
        "only_players_ratings = only_players_ratings.drop(['game_duration_seconds', 'initial_time_seconds'], axis = 1)\n",
        "only_players_ratings.head()"
      ],
      "metadata": {
        "colab": {
          "base_uri": "https://localhost:8080/",
          "height": 263
        },
        "id": "MYmH-OdYhdK5",
        "outputId": "a9600d1c-e37e-4545-b754-cae28177bf0b"
      },
      "execution_count": null,
      "outputs": [
        {
          "output_type": "execute_result",
          "data": {
            "text/plain": [
              "   game_id        nickname  player_score  player_rating  winner  bot_score  \\\n",
              "0        1           stevy           429         1500.0       1        335   \n",
              "1        2           Super           488            NaN       1        401   \n",
              "2        3       davidavid           440         1811.0       1        318   \n",
              "3        4  Inandoutworker           119         1473.0       0        478   \n",
              "4        5           stevy           325         1500.0       0        427   \n",
              "\n",
              "   bot_rating lexicon  rating_mode  regular_time  max_minutes_isOne  \n",
              "0      1637.0   NWL20            0             1                  1  \n",
              "1      2000.0   CSW21            1             1                  1  \n",
              "2      2071.0   CSW21            1             1                  0  \n",
              "3      1936.0   CSW21            0             1                  1  \n",
              "4      1844.0   NWL20            0             1                  1  "
            ],
            "text/html": [
              "\n",
              "  <div id=\"df-8b868247-992d-489c-b6a9-de2a9be52c7a\">\n",
              "    <div class=\"colab-df-container\">\n",
              "      <div>\n",
              "<style scoped>\n",
              "    .dataframe tbody tr th:only-of-type {\n",
              "        vertical-align: middle;\n",
              "    }\n",
              "\n",
              "    .dataframe tbody tr th {\n",
              "        vertical-align: top;\n",
              "    }\n",
              "\n",
              "    .dataframe thead th {\n",
              "        text-align: right;\n",
              "    }\n",
              "</style>\n",
              "<table border=\"1\" class=\"dataframe\">\n",
              "  <thead>\n",
              "    <tr style=\"text-align: right;\">\n",
              "      <th></th>\n",
              "      <th>game_id</th>\n",
              "      <th>nickname</th>\n",
              "      <th>player_score</th>\n",
              "      <th>player_rating</th>\n",
              "      <th>winner</th>\n",
              "      <th>bot_score</th>\n",
              "      <th>bot_rating</th>\n",
              "      <th>lexicon</th>\n",
              "      <th>rating_mode</th>\n",
              "      <th>regular_time</th>\n",
              "      <th>max_minutes_isOne</th>\n",
              "    </tr>\n",
              "  </thead>\n",
              "  <tbody>\n",
              "    <tr>\n",
              "      <th>0</th>\n",
              "      <td>1</td>\n",
              "      <td>stevy</td>\n",
              "      <td>429</td>\n",
              "      <td>1500.0</td>\n",
              "      <td>1</td>\n",
              "      <td>335</td>\n",
              "      <td>1637.0</td>\n",
              "      <td>NWL20</td>\n",
              "      <td>0</td>\n",
              "      <td>1</td>\n",
              "      <td>1</td>\n",
              "    </tr>\n",
              "    <tr>\n",
              "      <th>1</th>\n",
              "      <td>2</td>\n",
              "      <td>Super</td>\n",
              "      <td>488</td>\n",
              "      <td>NaN</td>\n",
              "      <td>1</td>\n",
              "      <td>401</td>\n",
              "      <td>2000.0</td>\n",
              "      <td>CSW21</td>\n",
              "      <td>1</td>\n",
              "      <td>1</td>\n",
              "      <td>1</td>\n",
              "    </tr>\n",
              "    <tr>\n",
              "      <th>2</th>\n",
              "      <td>3</td>\n",
              "      <td>davidavid</td>\n",
              "      <td>440</td>\n",
              "      <td>1811.0</td>\n",
              "      <td>1</td>\n",
              "      <td>318</td>\n",
              "      <td>2071.0</td>\n",
              "      <td>CSW21</td>\n",
              "      <td>1</td>\n",
              "      <td>1</td>\n",
              "      <td>0</td>\n",
              "    </tr>\n",
              "    <tr>\n",
              "      <th>3</th>\n",
              "      <td>4</td>\n",
              "      <td>Inandoutworker</td>\n",
              "      <td>119</td>\n",
              "      <td>1473.0</td>\n",
              "      <td>0</td>\n",
              "      <td>478</td>\n",
              "      <td>1936.0</td>\n",
              "      <td>CSW21</td>\n",
              "      <td>0</td>\n",
              "      <td>1</td>\n",
              "      <td>1</td>\n",
              "    </tr>\n",
              "    <tr>\n",
              "      <th>4</th>\n",
              "      <td>5</td>\n",
              "      <td>stevy</td>\n",
              "      <td>325</td>\n",
              "      <td>1500.0</td>\n",
              "      <td>0</td>\n",
              "      <td>427</td>\n",
              "      <td>1844.0</td>\n",
              "      <td>NWL20</td>\n",
              "      <td>0</td>\n",
              "      <td>1</td>\n",
              "      <td>1</td>\n",
              "    </tr>\n",
              "  </tbody>\n",
              "</table>\n",
              "</div>\n",
              "      <button class=\"colab-df-convert\" onclick=\"convertToInteractive('df-8b868247-992d-489c-b6a9-de2a9be52c7a')\"\n",
              "              title=\"Convert this dataframe to an interactive table.\"\n",
              "              style=\"display:none;\">\n",
              "        \n",
              "  <svg xmlns=\"http://www.w3.org/2000/svg\" height=\"24px\"viewBox=\"0 0 24 24\"\n",
              "       width=\"24px\">\n",
              "    <path d=\"M0 0h24v24H0V0z\" fill=\"none\"/>\n",
              "    <path d=\"M18.56 5.44l.94 2.06.94-2.06 2.06-.94-2.06-.94-.94-2.06-.94 2.06-2.06.94zm-11 1L8.5 8.5l.94-2.06 2.06-.94-2.06-.94L8.5 2.5l-.94 2.06-2.06.94zm10 10l.94 2.06.94-2.06 2.06-.94-2.06-.94-.94-2.06-.94 2.06-2.06.94z\"/><path d=\"M17.41 7.96l-1.37-1.37c-.4-.4-.92-.59-1.43-.59-.52 0-1.04.2-1.43.59L10.3 9.45l-7.72 7.72c-.78.78-.78 2.05 0 2.83L4 21.41c.39.39.9.59 1.41.59.51 0 1.02-.2 1.41-.59l7.78-7.78 2.81-2.81c.8-.78.8-2.07 0-2.86zM5.41 20L4 18.59l7.72-7.72 1.47 1.35L5.41 20z\"/>\n",
              "  </svg>\n",
              "      </button>\n",
              "      \n",
              "  <style>\n",
              "    .colab-df-container {\n",
              "      display:flex;\n",
              "      flex-wrap:wrap;\n",
              "      gap: 12px;\n",
              "    }\n",
              "\n",
              "    .colab-df-convert {\n",
              "      background-color: #E8F0FE;\n",
              "      border: none;\n",
              "      border-radius: 50%;\n",
              "      cursor: pointer;\n",
              "      display: none;\n",
              "      fill: #1967D2;\n",
              "      height: 32px;\n",
              "      padding: 0 0 0 0;\n",
              "      width: 32px;\n",
              "    }\n",
              "\n",
              "    .colab-df-convert:hover {\n",
              "      background-color: #E2EBFA;\n",
              "      box-shadow: 0px 1px 2px rgba(60, 64, 67, 0.3), 0px 1px 3px 1px rgba(60, 64, 67, 0.15);\n",
              "      fill: #174EA6;\n",
              "    }\n",
              "\n",
              "    [theme=dark] .colab-df-convert {\n",
              "      background-color: #3B4455;\n",
              "      fill: #D2E3FC;\n",
              "    }\n",
              "\n",
              "    [theme=dark] .colab-df-convert:hover {\n",
              "      background-color: #434B5C;\n",
              "      box-shadow: 0px 1px 3px 1px rgba(0, 0, 0, 0.15);\n",
              "      filter: drop-shadow(0px 1px 2px rgba(0, 0, 0, 0.3));\n",
              "      fill: #FFFFFF;\n",
              "    }\n",
              "  </style>\n",
              "\n",
              "      <script>\n",
              "        const buttonEl =\n",
              "          document.querySelector('#df-8b868247-992d-489c-b6a9-de2a9be52c7a button.colab-df-convert');\n",
              "        buttonEl.style.display =\n",
              "          google.colab.kernel.accessAllowed ? 'block' : 'none';\n",
              "\n",
              "        async function convertToInteractive(key) {\n",
              "          const element = document.querySelector('#df-8b868247-992d-489c-b6a9-de2a9be52c7a');\n",
              "          const dataTable =\n",
              "            await google.colab.kernel.invokeFunction('convertToInteractive',\n",
              "                                                     [key], {});\n",
              "          if (!dataTable) return;\n",
              "\n",
              "          const docLinkHtml = 'Like what you see? Visit the ' +\n",
              "            '<a target=\"_blank\" href=https://colab.research.google.com/notebooks/data_table.ipynb>data table notebook</a>'\n",
              "            + ' to learn more about interactive tables.';\n",
              "          element.innerHTML = '';\n",
              "          dataTable['output_type'] = 'display_data';\n",
              "          await google.colab.output.renderOutput(dataTable, element);\n",
              "          const docLink = document.createElement('div');\n",
              "          docLink.innerHTML = docLinkHtml;\n",
              "          element.appendChild(docLink);\n",
              "        }\n",
              "      </script>\n",
              "    </div>\n",
              "  </div>\n",
              "  "
            ]
          },
          "metadata": {},
          "execution_count": 127
        }
      ]
    },
    {
      "cell_type": "code",
      "source": [
        "only_bots = general_ratings[general_ratings['nickname'].isin(bots_names)]\n",
        "only_bots['bot_level'] = only_bots['nickname'].map({'BetterBot': 0, 'STEEBot': 1, 'HastyBot': 2})\n",
        "only_players_ratings = only_players_ratings.merge(only_bots[['game_id', 'bot_level']], how = 'left', on = 'game_id')\n",
        "only_players_ratings.head()"
      ],
      "metadata": {
        "id": "IbcgW81_keF_",
        "colab": {
          "base_uri": "https://localhost:8080/",
          "height": 263
        },
        "outputId": "0626132c-9cc7-4792-868d-c109d44f5777"
      },
      "execution_count": null,
      "outputs": [
        {
          "output_type": "execute_result",
          "data": {
            "text/plain": [
              "   game_id        nickname  player_score  player_rating  winner  bot_score  \\\n",
              "0        1           stevy           429         1500.0       1        335   \n",
              "1        2           Super           488            NaN       1        401   \n",
              "2        3       davidavid           440         1811.0       1        318   \n",
              "3        4  Inandoutworker           119         1473.0       0        478   \n",
              "4        5           stevy           325         1500.0       0        427   \n",
              "\n",
              "   bot_rating lexicon  rating_mode  regular_time  max_minutes_isOne  bot_level  \n",
              "0      1637.0   NWL20            0             1                  1          0  \n",
              "1      2000.0   CSW21            1             1                  1          0  \n",
              "2      2071.0   CSW21            1             1                  0          0  \n",
              "3      1936.0   CSW21            0             1                  1          0  \n",
              "4      1844.0   NWL20            0             1                  1          1  "
            ],
            "text/html": [
              "\n",
              "  <div id=\"df-3111fe2a-3a25-4798-9039-af4b9f7585e8\">\n",
              "    <div class=\"colab-df-container\">\n",
              "      <div>\n",
              "<style scoped>\n",
              "    .dataframe tbody tr th:only-of-type {\n",
              "        vertical-align: middle;\n",
              "    }\n",
              "\n",
              "    .dataframe tbody tr th {\n",
              "        vertical-align: top;\n",
              "    }\n",
              "\n",
              "    .dataframe thead th {\n",
              "        text-align: right;\n",
              "    }\n",
              "</style>\n",
              "<table border=\"1\" class=\"dataframe\">\n",
              "  <thead>\n",
              "    <tr style=\"text-align: right;\">\n",
              "      <th></th>\n",
              "      <th>game_id</th>\n",
              "      <th>nickname</th>\n",
              "      <th>player_score</th>\n",
              "      <th>player_rating</th>\n",
              "      <th>winner</th>\n",
              "      <th>bot_score</th>\n",
              "      <th>bot_rating</th>\n",
              "      <th>lexicon</th>\n",
              "      <th>rating_mode</th>\n",
              "      <th>regular_time</th>\n",
              "      <th>max_minutes_isOne</th>\n",
              "      <th>bot_level</th>\n",
              "    </tr>\n",
              "  </thead>\n",
              "  <tbody>\n",
              "    <tr>\n",
              "      <th>0</th>\n",
              "      <td>1</td>\n",
              "      <td>stevy</td>\n",
              "      <td>429</td>\n",
              "      <td>1500.0</td>\n",
              "      <td>1</td>\n",
              "      <td>335</td>\n",
              "      <td>1637.0</td>\n",
              "      <td>NWL20</td>\n",
              "      <td>0</td>\n",
              "      <td>1</td>\n",
              "      <td>1</td>\n",
              "      <td>0</td>\n",
              "    </tr>\n",
              "    <tr>\n",
              "      <th>1</th>\n",
              "      <td>2</td>\n",
              "      <td>Super</td>\n",
              "      <td>488</td>\n",
              "      <td>NaN</td>\n",
              "      <td>1</td>\n",
              "      <td>401</td>\n",
              "      <td>2000.0</td>\n",
              "      <td>CSW21</td>\n",
              "      <td>1</td>\n",
              "      <td>1</td>\n",
              "      <td>1</td>\n",
              "      <td>0</td>\n",
              "    </tr>\n",
              "    <tr>\n",
              "      <th>2</th>\n",
              "      <td>3</td>\n",
              "      <td>davidavid</td>\n",
              "      <td>440</td>\n",
              "      <td>1811.0</td>\n",
              "      <td>1</td>\n",
              "      <td>318</td>\n",
              "      <td>2071.0</td>\n",
              "      <td>CSW21</td>\n",
              "      <td>1</td>\n",
              "      <td>1</td>\n",
              "      <td>0</td>\n",
              "      <td>0</td>\n",
              "    </tr>\n",
              "    <tr>\n",
              "      <th>3</th>\n",
              "      <td>4</td>\n",
              "      <td>Inandoutworker</td>\n",
              "      <td>119</td>\n",
              "      <td>1473.0</td>\n",
              "      <td>0</td>\n",
              "      <td>478</td>\n",
              "      <td>1936.0</td>\n",
              "      <td>CSW21</td>\n",
              "      <td>0</td>\n",
              "      <td>1</td>\n",
              "      <td>1</td>\n",
              "      <td>0</td>\n",
              "    </tr>\n",
              "    <tr>\n",
              "      <th>4</th>\n",
              "      <td>5</td>\n",
              "      <td>stevy</td>\n",
              "      <td>325</td>\n",
              "      <td>1500.0</td>\n",
              "      <td>0</td>\n",
              "      <td>427</td>\n",
              "      <td>1844.0</td>\n",
              "      <td>NWL20</td>\n",
              "      <td>0</td>\n",
              "      <td>1</td>\n",
              "      <td>1</td>\n",
              "      <td>1</td>\n",
              "    </tr>\n",
              "  </tbody>\n",
              "</table>\n",
              "</div>\n",
              "      <button class=\"colab-df-convert\" onclick=\"convertToInteractive('df-3111fe2a-3a25-4798-9039-af4b9f7585e8')\"\n",
              "              title=\"Convert this dataframe to an interactive table.\"\n",
              "              style=\"display:none;\">\n",
              "        \n",
              "  <svg xmlns=\"http://www.w3.org/2000/svg\" height=\"24px\"viewBox=\"0 0 24 24\"\n",
              "       width=\"24px\">\n",
              "    <path d=\"M0 0h24v24H0V0z\" fill=\"none\"/>\n",
              "    <path d=\"M18.56 5.44l.94 2.06.94-2.06 2.06-.94-2.06-.94-.94-2.06-.94 2.06-2.06.94zm-11 1L8.5 8.5l.94-2.06 2.06-.94-2.06-.94L8.5 2.5l-.94 2.06-2.06.94zm10 10l.94 2.06.94-2.06 2.06-.94-2.06-.94-.94-2.06-.94 2.06-2.06.94z\"/><path d=\"M17.41 7.96l-1.37-1.37c-.4-.4-.92-.59-1.43-.59-.52 0-1.04.2-1.43.59L10.3 9.45l-7.72 7.72c-.78.78-.78 2.05 0 2.83L4 21.41c.39.39.9.59 1.41.59.51 0 1.02-.2 1.41-.59l7.78-7.78 2.81-2.81c.8-.78.8-2.07 0-2.86zM5.41 20L4 18.59l7.72-7.72 1.47 1.35L5.41 20z\"/>\n",
              "  </svg>\n",
              "      </button>\n",
              "      \n",
              "  <style>\n",
              "    .colab-df-container {\n",
              "      display:flex;\n",
              "      flex-wrap:wrap;\n",
              "      gap: 12px;\n",
              "    }\n",
              "\n",
              "    .colab-df-convert {\n",
              "      background-color: #E8F0FE;\n",
              "      border: none;\n",
              "      border-radius: 50%;\n",
              "      cursor: pointer;\n",
              "      display: none;\n",
              "      fill: #1967D2;\n",
              "      height: 32px;\n",
              "      padding: 0 0 0 0;\n",
              "      width: 32px;\n",
              "    }\n",
              "\n",
              "    .colab-df-convert:hover {\n",
              "      background-color: #E2EBFA;\n",
              "      box-shadow: 0px 1px 2px rgba(60, 64, 67, 0.3), 0px 1px 3px 1px rgba(60, 64, 67, 0.15);\n",
              "      fill: #174EA6;\n",
              "    }\n",
              "\n",
              "    [theme=dark] .colab-df-convert {\n",
              "      background-color: #3B4455;\n",
              "      fill: #D2E3FC;\n",
              "    }\n",
              "\n",
              "    [theme=dark] .colab-df-convert:hover {\n",
              "      background-color: #434B5C;\n",
              "      box-shadow: 0px 1px 3px 1px rgba(0, 0, 0, 0.15);\n",
              "      filter: drop-shadow(0px 1px 2px rgba(0, 0, 0, 0.3));\n",
              "      fill: #FFFFFF;\n",
              "    }\n",
              "  </style>\n",
              "\n",
              "      <script>\n",
              "        const buttonEl =\n",
              "          document.querySelector('#df-3111fe2a-3a25-4798-9039-af4b9f7585e8 button.colab-df-convert');\n",
              "        buttonEl.style.display =\n",
              "          google.colab.kernel.accessAllowed ? 'block' : 'none';\n",
              "\n",
              "        async function convertToInteractive(key) {\n",
              "          const element = document.querySelector('#df-3111fe2a-3a25-4798-9039-af4b9f7585e8');\n",
              "          const dataTable =\n",
              "            await google.colab.kernel.invokeFunction('convertToInteractive',\n",
              "                                                     [key], {});\n",
              "          if (!dataTable) return;\n",
              "\n",
              "          const docLinkHtml = 'Like what you see? Visit the ' +\n",
              "            '<a target=\"_blank\" href=https://colab.research.google.com/notebooks/data_table.ipynb>data table notebook</a>'\n",
              "            + ' to learn more about interactive tables.';\n",
              "          element.innerHTML = '';\n",
              "          dataTable['output_type'] = 'display_data';\n",
              "          await google.colab.output.renderOutput(dataTable, element);\n",
              "          const docLink = document.createElement('div');\n",
              "          docLink.innerHTML = docLinkHtml;\n",
              "          element.appendChild(docLink);\n",
              "        }\n",
              "      </script>\n",
              "    </div>\n",
              "  </div>\n",
              "  "
            ]
          },
          "metadata": {},
          "execution_count": 128
        }
      ]
    },
    {
      "cell_type": "markdown",
      "source": [
        "### **Статистика ходов игрока**\n"
      ],
      "metadata": {
        "id": "RnTvK2c3xmmz"
      }
    },
    {
      "cell_type": "code",
      "source": [
        "turns_df.head(3)"
      ],
      "metadata": {
        "colab": {
          "base_uri": "https://localhost:8080/",
          "height": 138
        },
        "id": "jY6UT7B7xr6i",
        "outputId": "e772ac21-9c29-4027-d26c-5533fa51ad98"
      },
      "execution_count": null,
      "outputs": [
        {
          "output_type": "execute_result",
          "data": {
            "text/plain": [
              "   game_id  turn_number   nickname     rack location  move  points  score  \\\n",
              "0        1            1  BetterBot  DDEGITT       8G   DIG      10     10   \n",
              "1        1            2      stevy  AEHOPUX       7H   HAP      18     18   \n",
              "2        1            3  BetterBot  DEELTTU       6I  LUTE      16     26   \n",
              "\n",
              "  turn_type  \n",
              "0      Play  \n",
              "1      Play  \n",
              "2      Play  "
            ],
            "text/html": [
              "\n",
              "  <div id=\"df-fe3ecf7b-7329-46e1-8e93-02410f28d807\">\n",
              "    <div class=\"colab-df-container\">\n",
              "      <div>\n",
              "<style scoped>\n",
              "    .dataframe tbody tr th:only-of-type {\n",
              "        vertical-align: middle;\n",
              "    }\n",
              "\n",
              "    .dataframe tbody tr th {\n",
              "        vertical-align: top;\n",
              "    }\n",
              "\n",
              "    .dataframe thead th {\n",
              "        text-align: right;\n",
              "    }\n",
              "</style>\n",
              "<table border=\"1\" class=\"dataframe\">\n",
              "  <thead>\n",
              "    <tr style=\"text-align: right;\">\n",
              "      <th></th>\n",
              "      <th>game_id</th>\n",
              "      <th>turn_number</th>\n",
              "      <th>nickname</th>\n",
              "      <th>rack</th>\n",
              "      <th>location</th>\n",
              "      <th>move</th>\n",
              "      <th>points</th>\n",
              "      <th>score</th>\n",
              "      <th>turn_type</th>\n",
              "    </tr>\n",
              "  </thead>\n",
              "  <tbody>\n",
              "    <tr>\n",
              "      <th>0</th>\n",
              "      <td>1</td>\n",
              "      <td>1</td>\n",
              "      <td>BetterBot</td>\n",
              "      <td>DDEGITT</td>\n",
              "      <td>8G</td>\n",
              "      <td>DIG</td>\n",
              "      <td>10</td>\n",
              "      <td>10</td>\n",
              "      <td>Play</td>\n",
              "    </tr>\n",
              "    <tr>\n",
              "      <th>1</th>\n",
              "      <td>1</td>\n",
              "      <td>2</td>\n",
              "      <td>stevy</td>\n",
              "      <td>AEHOPUX</td>\n",
              "      <td>7H</td>\n",
              "      <td>HAP</td>\n",
              "      <td>18</td>\n",
              "      <td>18</td>\n",
              "      <td>Play</td>\n",
              "    </tr>\n",
              "    <tr>\n",
              "      <th>2</th>\n",
              "      <td>1</td>\n",
              "      <td>3</td>\n",
              "      <td>BetterBot</td>\n",
              "      <td>DEELTTU</td>\n",
              "      <td>6I</td>\n",
              "      <td>LUTE</td>\n",
              "      <td>16</td>\n",
              "      <td>26</td>\n",
              "      <td>Play</td>\n",
              "    </tr>\n",
              "  </tbody>\n",
              "</table>\n",
              "</div>\n",
              "      <button class=\"colab-df-convert\" onclick=\"convertToInteractive('df-fe3ecf7b-7329-46e1-8e93-02410f28d807')\"\n",
              "              title=\"Convert this dataframe to an interactive table.\"\n",
              "              style=\"display:none;\">\n",
              "        \n",
              "  <svg xmlns=\"http://www.w3.org/2000/svg\" height=\"24px\"viewBox=\"0 0 24 24\"\n",
              "       width=\"24px\">\n",
              "    <path d=\"M0 0h24v24H0V0z\" fill=\"none\"/>\n",
              "    <path d=\"M18.56 5.44l.94 2.06.94-2.06 2.06-.94-2.06-.94-.94-2.06-.94 2.06-2.06.94zm-11 1L8.5 8.5l.94-2.06 2.06-.94-2.06-.94L8.5 2.5l-.94 2.06-2.06.94zm10 10l.94 2.06.94-2.06 2.06-.94-2.06-.94-.94-2.06-.94 2.06-2.06.94z\"/><path d=\"M17.41 7.96l-1.37-1.37c-.4-.4-.92-.59-1.43-.59-.52 0-1.04.2-1.43.59L10.3 9.45l-7.72 7.72c-.78.78-.78 2.05 0 2.83L4 21.41c.39.39.9.59 1.41.59.51 0 1.02-.2 1.41-.59l7.78-7.78 2.81-2.81c.8-.78.8-2.07 0-2.86zM5.41 20L4 18.59l7.72-7.72 1.47 1.35L5.41 20z\"/>\n",
              "  </svg>\n",
              "      </button>\n",
              "      \n",
              "  <style>\n",
              "    .colab-df-container {\n",
              "      display:flex;\n",
              "      flex-wrap:wrap;\n",
              "      gap: 12px;\n",
              "    }\n",
              "\n",
              "    .colab-df-convert {\n",
              "      background-color: #E8F0FE;\n",
              "      border: none;\n",
              "      border-radius: 50%;\n",
              "      cursor: pointer;\n",
              "      display: none;\n",
              "      fill: #1967D2;\n",
              "      height: 32px;\n",
              "      padding: 0 0 0 0;\n",
              "      width: 32px;\n",
              "    }\n",
              "\n",
              "    .colab-df-convert:hover {\n",
              "      background-color: #E2EBFA;\n",
              "      box-shadow: 0px 1px 2px rgba(60, 64, 67, 0.3), 0px 1px 3px 1px rgba(60, 64, 67, 0.15);\n",
              "      fill: #174EA6;\n",
              "    }\n",
              "\n",
              "    [theme=dark] .colab-df-convert {\n",
              "      background-color: #3B4455;\n",
              "      fill: #D2E3FC;\n",
              "    }\n",
              "\n",
              "    [theme=dark] .colab-df-convert:hover {\n",
              "      background-color: #434B5C;\n",
              "      box-shadow: 0px 1px 3px 1px rgba(0, 0, 0, 0.15);\n",
              "      filter: drop-shadow(0px 1px 2px rgba(0, 0, 0, 0.3));\n",
              "      fill: #FFFFFF;\n",
              "    }\n",
              "  </style>\n",
              "\n",
              "      <script>\n",
              "        const buttonEl =\n",
              "          document.querySelector('#df-fe3ecf7b-7329-46e1-8e93-02410f28d807 button.colab-df-convert');\n",
              "        buttonEl.style.display =\n",
              "          google.colab.kernel.accessAllowed ? 'block' : 'none';\n",
              "\n",
              "        async function convertToInteractive(key) {\n",
              "          const element = document.querySelector('#df-fe3ecf7b-7329-46e1-8e93-02410f28d807');\n",
              "          const dataTable =\n",
              "            await google.colab.kernel.invokeFunction('convertToInteractive',\n",
              "                                                     [key], {});\n",
              "          if (!dataTable) return;\n",
              "\n",
              "          const docLinkHtml = 'Like what you see? Visit the ' +\n",
              "            '<a target=\"_blank\" href=https://colab.research.google.com/notebooks/data_table.ipynb>data table notebook</a>'\n",
              "            + ' to learn more about interactive tables.';\n",
              "          element.innerHTML = '';\n",
              "          dataTable['output_type'] = 'display_data';\n",
              "          await google.colab.output.renderOutput(dataTable, element);\n",
              "          const docLink = document.createElement('div');\n",
              "          docLink.innerHTML = docLinkHtml;\n",
              "          element.appendChild(docLink);\n",
              "        }\n",
              "      </script>\n",
              "    </div>\n",
              "  </div>\n",
              "  "
            ]
          },
          "metadata": {},
          "execution_count": 74
        }
      ]
    },
    {
      "cell_type": "code",
      "source": [
        "players_turns = turns_df[~turns_df['nickname'].isin(bots_names)]"
      ],
      "metadata": {
        "id": "Wf5AltQYzTff"
      },
      "execution_count": null,
      "outputs": []
    },
    {
      "cell_type": "code",
      "source": [
        "players_turns.describe(include = np.object).iloc[1:, 1:]"
      ],
      "metadata": {
        "colab": {
          "base_uri": "https://localhost:8080/",
          "height": 138
        },
        "id": "9e3Aav370LTk",
        "outputId": "7e23bbf5-e8dd-4e8a-d615-473186169d61"
      },
      "execution_count": null,
      "outputs": [
        {
          "output_type": "execute_result",
          "data": {
            "text/plain": [
              "          rack location    move turn_type\n",
              "unique  424848      418  193697         6\n",
              "top          I      15A      --      Play\n",
              "freq       977    13427   14302    928130"
            ],
            "text/html": [
              "\n",
              "  <div id=\"df-1e3e5896-eb13-4ea9-bcbc-f8fea72f5e2f\">\n",
              "    <div class=\"colab-df-container\">\n",
              "      <div>\n",
              "<style scoped>\n",
              "    .dataframe tbody tr th:only-of-type {\n",
              "        vertical-align: middle;\n",
              "    }\n",
              "\n",
              "    .dataframe tbody tr th {\n",
              "        vertical-align: top;\n",
              "    }\n",
              "\n",
              "    .dataframe thead th {\n",
              "        text-align: right;\n",
              "    }\n",
              "</style>\n",
              "<table border=\"1\" class=\"dataframe\">\n",
              "  <thead>\n",
              "    <tr style=\"text-align: right;\">\n",
              "      <th></th>\n",
              "      <th>rack</th>\n",
              "      <th>location</th>\n",
              "      <th>move</th>\n",
              "      <th>turn_type</th>\n",
              "    </tr>\n",
              "  </thead>\n",
              "  <tbody>\n",
              "    <tr>\n",
              "      <th>unique</th>\n",
              "      <td>424848</td>\n",
              "      <td>418</td>\n",
              "      <td>193697</td>\n",
              "      <td>6</td>\n",
              "    </tr>\n",
              "    <tr>\n",
              "      <th>top</th>\n",
              "      <td>I</td>\n",
              "      <td>15A</td>\n",
              "      <td>--</td>\n",
              "      <td>Play</td>\n",
              "    </tr>\n",
              "    <tr>\n",
              "      <th>freq</th>\n",
              "      <td>977</td>\n",
              "      <td>13427</td>\n",
              "      <td>14302</td>\n",
              "      <td>928130</td>\n",
              "    </tr>\n",
              "  </tbody>\n",
              "</table>\n",
              "</div>\n",
              "      <button class=\"colab-df-convert\" onclick=\"convertToInteractive('df-1e3e5896-eb13-4ea9-bcbc-f8fea72f5e2f')\"\n",
              "              title=\"Convert this dataframe to an interactive table.\"\n",
              "              style=\"display:none;\">\n",
              "        \n",
              "  <svg xmlns=\"http://www.w3.org/2000/svg\" height=\"24px\"viewBox=\"0 0 24 24\"\n",
              "       width=\"24px\">\n",
              "    <path d=\"M0 0h24v24H0V0z\" fill=\"none\"/>\n",
              "    <path d=\"M18.56 5.44l.94 2.06.94-2.06 2.06-.94-2.06-.94-.94-2.06-.94 2.06-2.06.94zm-11 1L8.5 8.5l.94-2.06 2.06-.94-2.06-.94L8.5 2.5l-.94 2.06-2.06.94zm10 10l.94 2.06.94-2.06 2.06-.94-2.06-.94-.94-2.06-.94 2.06-2.06.94z\"/><path d=\"M17.41 7.96l-1.37-1.37c-.4-.4-.92-.59-1.43-.59-.52 0-1.04.2-1.43.59L10.3 9.45l-7.72 7.72c-.78.78-.78 2.05 0 2.83L4 21.41c.39.39.9.59 1.41.59.51 0 1.02-.2 1.41-.59l7.78-7.78 2.81-2.81c.8-.78.8-2.07 0-2.86zM5.41 20L4 18.59l7.72-7.72 1.47 1.35L5.41 20z\"/>\n",
              "  </svg>\n",
              "      </button>\n",
              "      \n",
              "  <style>\n",
              "    .colab-df-container {\n",
              "      display:flex;\n",
              "      flex-wrap:wrap;\n",
              "      gap: 12px;\n",
              "    }\n",
              "\n",
              "    .colab-df-convert {\n",
              "      background-color: #E8F0FE;\n",
              "      border: none;\n",
              "      border-radius: 50%;\n",
              "      cursor: pointer;\n",
              "      display: none;\n",
              "      fill: #1967D2;\n",
              "      height: 32px;\n",
              "      padding: 0 0 0 0;\n",
              "      width: 32px;\n",
              "    }\n",
              "\n",
              "    .colab-df-convert:hover {\n",
              "      background-color: #E2EBFA;\n",
              "      box-shadow: 0px 1px 2px rgba(60, 64, 67, 0.3), 0px 1px 3px 1px rgba(60, 64, 67, 0.15);\n",
              "      fill: #174EA6;\n",
              "    }\n",
              "\n",
              "    [theme=dark] .colab-df-convert {\n",
              "      background-color: #3B4455;\n",
              "      fill: #D2E3FC;\n",
              "    }\n",
              "\n",
              "    [theme=dark] .colab-df-convert:hover {\n",
              "      background-color: #434B5C;\n",
              "      box-shadow: 0px 1px 3px 1px rgba(0, 0, 0, 0.15);\n",
              "      filter: drop-shadow(0px 1px 2px rgba(0, 0, 0, 0.3));\n",
              "      fill: #FFFFFF;\n",
              "    }\n",
              "  </style>\n",
              "\n",
              "      <script>\n",
              "        const buttonEl =\n",
              "          document.querySelector('#df-1e3e5896-eb13-4ea9-bcbc-f8fea72f5e2f button.colab-df-convert');\n",
              "        buttonEl.style.display =\n",
              "          google.colab.kernel.accessAllowed ? 'block' : 'none';\n",
              "\n",
              "        async function convertToInteractive(key) {\n",
              "          const element = document.querySelector('#df-1e3e5896-eb13-4ea9-bcbc-f8fea72f5e2f');\n",
              "          const dataTable =\n",
              "            await google.colab.kernel.invokeFunction('convertToInteractive',\n",
              "                                                     [key], {});\n",
              "          if (!dataTable) return;\n",
              "\n",
              "          const docLinkHtml = 'Like what you see? Visit the ' +\n",
              "            '<a target=\"_blank\" href=https://colab.research.google.com/notebooks/data_table.ipynb>data table notebook</a>'\n",
              "            + ' to learn more about interactive tables.';\n",
              "          element.innerHTML = '';\n",
              "          dataTable['output_type'] = 'display_data';\n",
              "          await google.colab.output.renderOutput(dataTable, element);\n",
              "          const docLink = document.createElement('div');\n",
              "          docLink.innerHTML = docLinkHtml;\n",
              "          element.appendChild(docLink);\n",
              "        }\n",
              "      </script>\n",
              "    </div>\n",
              "  </div>\n",
              "  "
            ]
          },
          "metadata": {},
          "execution_count": 136
        }
      ]
    },
    {
      "cell_type": "code",
      "source": [
        "players_turns['turn_type'].value_counts(normalize = True)"
      ],
      "metadata": {
        "colab": {
          "base_uri": "https://localhost:8080/"
        },
        "id": "1-1EkLHK3VcK",
        "outputId": "e05d78ca-8164-4183-cc78-6ff15a0892be"
      },
      "execution_count": null,
      "outputs": [
        {
          "output_type": "execute_result",
          "data": {
            "text/plain": [
              "Play             0.926819\n",
              "Exchange         0.034766\n",
              "End              0.028555\n",
              "Pass             0.005486\n",
              "Timeout          0.004136\n",
              "Six-Zero Rule    0.000238\n",
              "Name: turn_type, dtype: float64"
            ]
          },
          "metadata": {},
          "execution_count": 137
        }
      ]
    },
    {
      "cell_type": "code",
      "source": [
        "players_turns.loc[players_turns['turn_type'] != 'Play', 'move'] = 0\n",
        "players_turns['move'] = players_turns['move'].fillna(0)"
      ],
      "metadata": {
        "id": "m0c9I7Xb3Oh1"
      },
      "execution_count": null,
      "outputs": []
    },
    {
      "cell_type": "code",
      "source": [
        "alphabets = []\n",
        "for i in range(65,91):\n",
        "    alphabets.append(chr(i))"
      ],
      "metadata": {
        "id": "MrqiZNNs7Oc6"
      },
      "execution_count": null,
      "outputs": []
    },
    {
      "cell_type": "code",
      "source": [
        "def only_letters(player_turn):\n",
        "  letters = []\n",
        "  if player_turn == 0:\n",
        "    return 0\n",
        "  else:\n",
        "    for letter in player_turn:\n",
        "      if letter in alphabets:\n",
        "        letters.append(letter)\n",
        "    return len(letters)"
      ],
      "metadata": {
        "id": "MsRM-Daw7oA2"
      },
      "execution_count": null,
      "outputs": []
    },
    {
      "cell_type": "code",
      "source": [
        "players_turns['word_length'] = players_turns['move'].apply(lambda x: only_letters(x))"
      ],
      "metadata": {
        "id": "V_mOnqPm0s8V"
      },
      "execution_count": null,
      "outputs": []
    },
    {
      "cell_type": "code",
      "source": [
        "players_turns['word_length'].value_counts(normalize = True).sort_values()"
      ],
      "metadata": {
        "colab": {
          "base_uri": "https://localhost:8080/"
        },
        "id": "tVtpcJAv5EvW",
        "outputId": "11dc994b-7dfc-44c3-a53f-81b3bb2bb86c"
      },
      "execution_count": null,
      "outputs": [
        {
          "output_type": "execute_result",
          "data": {
            "text/plain": [
              "1    0.048691\n",
              "7    0.060386\n",
              "6    0.070149\n",
              "0    0.073781\n",
              "5    0.082335\n",
              "4    0.179483\n",
              "2    0.200922\n",
              "3    0.284252\n",
              "Name: word_length, dtype: float64"
            ]
          },
          "metadata": {},
          "execution_count": 142
        }
      ]
    },
    {
      "cell_type": "code",
      "source": [
        "sns.scatterplot(data = players_turns, x = 'word_length', y = 'points')\n",
        "plt.title('Длина слова и количество очков')\n",
        "plt.xlabel('Длина слова')\n",
        "plt.ylabel('Количество очков')\n",
        "plt.show()"
      ],
      "metadata": {
        "colab": {
          "base_uri": "https://localhost:8080/",
          "height": 295
        },
        "id": "bAeVNkJN1L2v",
        "outputId": "d39af4ec-342c-4bd6-9c10-b19b67aacc8c"
      },
      "execution_count": null,
      "outputs": [
        {
          "output_type": "display_data",
          "data": {
            "text/plain": [
              "<Figure size 432x288 with 1 Axes>"
            ],
            "image/png": "[encoded data removed]"
          },
          "metadata": {}
        }
      ]
    },
    {
      "cell_type": "code",
      "source": [
        "turns_statistics = players_turns.groupby('game_id', as_index = False)['word_length'].agg(['mean', 'sum'])\n",
        "turns_statistics.rename(columns = {'mean': 'AVG_word_length', 'sum': 'sum_of_letters'}, inplace = True)\n",
        "\n",
        "temporary_data = players_turns.groupby('game_id', as_index = False).agg({'turn_number': 'count', 'points': 'mean'})\n",
        "temporary_data.rename(columns = {'turn_number': 'number_of_turns', 'points': 'AVG_of_points'}, inplace = True)\n",
        "\n",
        "turns_statistics = turns_statistics.merge(temporary_data, how = 'left', on = 'game_id')\n",
        "turns_statistics.head()"
      ],
      "metadata": {
        "colab": {
          "base_uri": "https://localhost:8080/",
          "height": 200
        },
        "id": "UorR6KDvH1tX",
        "outputId": "238176cf-dcf2-4f8e-e452-b07e57be5d57"
      },
      "execution_count": null,
      "outputs": [
        {
          "output_type": "execute_result",
          "data": {
            "text/plain": [
              "   game_id  AVG_word_length  sum_of_letters  number_of_turns  AVG_of_points\n",
              "0        1         3.214286              45               14      30.642857\n",
              "1        2         3.357143              47               14      34.857143\n",
              "2        3         3.428571              48               14      31.428571\n",
              "3        4         1.357143              19               14       8.500000\n",
              "4        5         2.500000              40               16      20.312500"
            ],
            "text/html": [
              "\n",
              "  <div id=\"df-da285866-c0ca-4bba-a995-91cdd2462760\">\n",
              "    <div class=\"colab-df-container\">\n",
              "      <div>\n",
              "<style scoped>\n",
              "    .dataframe tbody tr th:only-of-type {\n",
              "        vertical-align: middle;\n",
              "    }\n",
              "\n",
              "    .dataframe tbody tr th {\n",
              "        vertical-align: top;\n",
              "    }\n",
              "\n",
              "    .dataframe thead th {\n",
              "        text-align: right;\n",
              "    }\n",
              "</style>\n",
              "<table border=\"1\" class=\"dataframe\">\n",
              "  <thead>\n",
              "    <tr style=\"text-align: right;\">\n",
              "      <th></th>\n",
              "      <th>game_id</th>\n",
              "      <th>AVG_word_length</th>\n",
              "      <th>sum_of_letters</th>\n",
              "      <th>number_of_turns</th>\n",
              "      <th>AVG_of_points</th>\n",
              "    </tr>\n",
              "  </thead>\n",
              "  <tbody>\n",
              "    <tr>\n",
              "      <th>0</th>\n",
              "      <td>1</td>\n",
              "      <td>3.214286</td>\n",
              "      <td>45</td>\n",
              "      <td>14</td>\n",
              "      <td>30.642857</td>\n",
              "    </tr>\n",
              "    <tr>\n",
              "      <th>1</th>\n",
              "      <td>2</td>\n",
              "      <td>3.357143</td>\n",
              "      <td>47</td>\n",
              "      <td>14</td>\n",
              "      <td>34.857143</td>\n",
              "    </tr>\n",
              "    <tr>\n",
              "      <th>2</th>\n",
              "      <td>3</td>\n",
              "      <td>3.428571</td>\n",
              "      <td>48</td>\n",
              "      <td>14</td>\n",
              "      <td>31.428571</td>\n",
              "    </tr>\n",
              "    <tr>\n",
              "      <th>3</th>\n",
              "      <td>4</td>\n",
              "      <td>1.357143</td>\n",
              "      <td>19</td>\n",
              "      <td>14</td>\n",
              "      <td>8.500000</td>\n",
              "    </tr>\n",
              "    <tr>\n",
              "      <th>4</th>\n",
              "      <td>5</td>\n",
              "      <td>2.500000</td>\n",
              "      <td>40</td>\n",
              "      <td>16</td>\n",
              "      <td>20.312500</td>\n",
              "    </tr>\n",
              "  </tbody>\n",
              "</table>\n",
              "</div>\n",
              "      <button class=\"colab-df-convert\" onclick=\"convertToInteractive('df-da285866-c0ca-4bba-a995-91cdd2462760')\"\n",
              "              title=\"Convert this dataframe to an interactive table.\"\n",
              "              style=\"display:none;\">\n",
              "        \n",
              "  <svg xmlns=\"http://www.w3.org/2000/svg\" height=\"24px\"viewBox=\"0 0 24 24\"\n",
              "       width=\"24px\">\n",
              "    <path d=\"M0 0h24v24H0V0z\" fill=\"none\"/>\n",
              "    <path d=\"M18.56 5.44l.94 2.06.94-2.06 2.06-.94-2.06-.94-.94-2.06-.94 2.06-2.06.94zm-11 1L8.5 8.5l.94-2.06 2.06-.94-2.06-.94L8.5 2.5l-.94 2.06-2.06.94zm10 10l.94 2.06.94-2.06 2.06-.94-2.06-.94-.94-2.06-.94 2.06-2.06.94z\"/><path d=\"M17.41 7.96l-1.37-1.37c-.4-.4-.92-.59-1.43-.59-.52 0-1.04.2-1.43.59L10.3 9.45l-7.72 7.72c-.78.78-.78 2.05 0 2.83L4 21.41c.39.39.9.59 1.41.59.51 0 1.02-.2 1.41-.59l7.78-7.78 2.81-2.81c.8-.78.8-2.07 0-2.86zM5.41 20L4 18.59l7.72-7.72 1.47 1.35L5.41 20z\"/>\n",
              "  </svg>\n",
              "      </button>\n",
              "      \n",
              "  <style>\n",
              "    .colab-df-container {\n",
              "      display:flex;\n",
              "      flex-wrap:wrap;\n",
              "      gap: 12px;\n",
              "    }\n",
              "\n",
              "    .colab-df-convert {\n",
              "      background-color: #E8F0FE;\n",
              "      border: none;\n",
              "      border-radius: 50%;\n",
              "      cursor: pointer;\n",
              "      display: none;\n",
              "      fill: #1967D2;\n",
              "      height: 32px;\n",
              "      padding: 0 0 0 0;\n",
              "      width: 32px;\n",
              "    }\n",
              "\n",
              "    .colab-df-convert:hover {\n",
              "      background-color: #E2EBFA;\n",
              "      box-shadow: 0px 1px 2px rgba(60, 64, 67, 0.3), 0px 1px 3px 1px rgba(60, 64, 67, 0.15);\n",
              "      fill: #174EA6;\n",
              "    }\n",
              "\n",
              "    [theme=dark] .colab-df-convert {\n",
              "      background-color: #3B4455;\n",
              "      fill: #D2E3FC;\n",
              "    }\n",
              "\n",
              "    [theme=dark] .colab-df-convert:hover {\n",
              "      background-color: #434B5C;\n",
              "      box-shadow: 0px 1px 3px 1px rgba(0, 0, 0, 0.15);\n",
              "      filter: drop-shadow(0px 1px 2px rgba(0, 0, 0, 0.3));\n",
              "      fill: #FFFFFF;\n",
              "    }\n",
              "  </style>\n",
              "\n",
              "      <script>\n",
              "        const buttonEl =\n",
              "          document.querySelector('#df-da285866-c0ca-4bba-a995-91cdd2462760 button.colab-df-convert');\n",
              "        buttonEl.style.display =\n",
              "          google.colab.kernel.accessAllowed ? 'block' : 'none';\n",
              "\n",
              "        async function convertToInteractive(key) {\n",
              "          const element = document.querySelector('#df-da285866-c0ca-4bba-a995-91cdd2462760');\n",
              "          const dataTable =\n",
              "            await google.colab.kernel.invokeFunction('convertToInteractive',\n",
              "                                                     [key], {});\n",
              "          if (!dataTable) return;\n",
              "\n",
              "          const docLinkHtml = 'Like what you see? Visit the ' +\n",
              "            '<a target=\"_blank\" href=https://colab.research.google.com/notebooks/data_table.ipynb>data table notebook</a>'\n",
              "            + ' to learn more about interactive tables.';\n",
              "          element.innerHTML = '';\n",
              "          dataTable['output_type'] = 'display_data';\n",
              "          await google.colab.output.renderOutput(dataTable, element);\n",
              "          const docLink = document.createElement('div');\n",
              "          docLink.innerHTML = docLinkHtml;\n",
              "          element.appendChild(docLink);\n",
              "        }\n",
              "      </script>\n",
              "    </div>\n",
              "  </div>\n",
              "  "
            ]
          },
          "metadata": {},
          "execution_count": 144
        }
      ]
    },
    {
      "cell_type": "code",
      "source": [
        "only_players_ratings = only_players_ratings.merge(turns_statistics, how = 'left', on = 'game_id')\n",
        "only_players_ratings.head()"
      ],
      "metadata": {
        "colab": {
          "base_uri": "https://localhost:8080/",
          "height": 263
        },
        "id": "wiIWf2UgKVBq",
        "outputId": "7156fa1e-0095-458d-ecc6-04e2e429516c"
      },
      "execution_count": null,
      "outputs": [
        {
          "output_type": "execute_result",
          "data": {
            "text/plain": [
              "   game_id        nickname  player_score  player_rating  winner  bot_score  \\\n",
              "0        1           stevy           429         1500.0       1        335   \n",
              "1        2           Super           488            NaN       1        401   \n",
              "2        3       davidavid           440         1811.0       1        318   \n",
              "3        4  Inandoutworker           119         1473.0       0        478   \n",
              "4        5           stevy           325         1500.0       0        427   \n",
              "\n",
              "   bot_rating lexicon  rating_mode  regular_time  max_minutes_isOne  \\\n",
              "0      1637.0   NWL20            0             1                  1   \n",
              "1      2000.0   CSW21            1             1                  1   \n",
              "2      2071.0   CSW21            1             1                  0   \n",
              "3      1936.0   CSW21            0             1                  1   \n",
              "4      1844.0   NWL20            0             1                  1   \n",
              "\n",
              "   bot_level  AVG_word_length  sum_of_letters  number_of_turns  AVG_of_points  \n",
              "0          0         3.214286              45               14      30.642857  \n",
              "1          0         3.357143              47               14      34.857143  \n",
              "2          0         3.428571              48               14      31.428571  \n",
              "3          0         1.357143              19               14       8.500000  \n",
              "4          1         2.500000              40               16      20.312500  "
            ],
            "text/html": [
              "\n",
              "  <div id=\"df-15cc14c9-5b9a-4234-b61a-c11fc58a93c9\">\n",
              "    <div class=\"colab-df-container\">\n",
              "      <div>\n",
              "<style scoped>\n",
              "    .dataframe tbody tr th:only-of-type {\n",
              "        vertical-align: middle;\n",
              "    }\n",
              "\n",
              "    .dataframe tbody tr th {\n",
              "        vertical-align: top;\n",
              "    }\n",
              "\n",
              "    .dataframe thead th {\n",
              "        text-align: right;\n",
              "    }\n",
              "</style>\n",
              "<table border=\"1\" class=\"dataframe\">\n",
              "  <thead>\n",
              "    <tr style=\"text-align: right;\">\n",
              "      <th></th>\n",
              "      <th>game_id</th>\n",
              "      <th>nickname</th>\n",
              "      <th>player_score</th>\n",
              "      <th>player_rating</th>\n",
              "      <th>winner</th>\n",
              "      <th>bot_score</th>\n",
              "      <th>bot_rating</th>\n",
              "      <th>lexicon</th>\n",
              "      <th>rating_mode</th>\n",
              "      <th>regular_time</th>\n",
              "      <th>max_minutes_isOne</th>\n",
              "      <th>bot_level</th>\n",
              "      <th>AVG_word_length</th>\n",
              "      <th>sum_of_letters</th>\n",
              "      <th>number_of_turns</th>\n",
              "      <th>AVG_of_points</th>\n",
              "    </tr>\n",
              "  </thead>\n",
              "  <tbody>\n",
              "    <tr>\n",
              "      <th>0</th>\n",
              "      <td>1</td>\n",
              "      <td>stevy</td>\n",
              "      <td>429</td>\n",
              "      <td>1500.0</td>\n",
              "      <td>1</td>\n",
              "      <td>335</td>\n",
              "      <td>1637.0</td>\n",
              "      <td>NWL20</td>\n",
              "      <td>0</td>\n",
              "      <td>1</td>\n",
              "      <td>1</td>\n",
              "      <td>0</td>\n",
              "      <td>3.214286</td>\n",
              "      <td>45</td>\n",
              "      <td>14</td>\n",
              "      <td>30.642857</td>\n",
              "    </tr>\n",
              "    <tr>\n",
              "      <th>1</th>\n",
              "      <td>2</td>\n",
              "      <td>Super</td>\n",
              "      <td>488</td>\n",
              "      <td>NaN</td>\n",
              "      <td>1</td>\n",
              "      <td>401</td>\n",
              "      <td>2000.0</td>\n",
              "      <td>CSW21</td>\n",
              "      <td>1</td>\n",
              "      <td>1</td>\n",
              "      <td>1</td>\n",
              "      <td>0</td>\n",
              "      <td>3.357143</td>\n",
              "      <td>47</td>\n",
              "      <td>14</td>\n",
              "      <td>34.857143</td>\n",
              "    </tr>\n",
              "    <tr>\n",
              "      <th>2</th>\n",
              "      <td>3</td>\n",
              "      <td>davidavid</td>\n",
              "      <td>440</td>\n",
              "      <td>1811.0</td>\n",
              "      <td>1</td>\n",
              "      <td>318</td>\n",
              "      <td>2071.0</td>\n",
              "      <td>CSW21</td>\n",
              "      <td>1</td>\n",
              "      <td>1</td>\n",
              "      <td>0</td>\n",
              "      <td>0</td>\n",
              "      <td>3.428571</td>\n",
              "      <td>48</td>\n",
              "      <td>14</td>\n",
              "      <td>31.428571</td>\n",
              "    </tr>\n",
              "    <tr>\n",
              "      <th>3</th>\n",
              "      <td>4</td>\n",
              "      <td>Inandoutworker</td>\n",
              "      <td>119</td>\n",
              "      <td>1473.0</td>\n",
              "      <td>0</td>\n",
              "      <td>478</td>\n",
              "      <td>1936.0</td>\n",
              "      <td>CSW21</td>\n",
              "      <td>0</td>\n",
              "      <td>1</td>\n",
              "      <td>1</td>\n",
              "      <td>0</td>\n",
              "      <td>1.357143</td>\n",
              "      <td>19</td>\n",
              "      <td>14</td>\n",
              "      <td>8.500000</td>\n",
              "    </tr>\n",
              "    <tr>\n",
              "      <th>4</th>\n",
              "      <td>5</td>\n",
              "      <td>stevy</td>\n",
              "      <td>325</td>\n",
              "      <td>1500.0</td>\n",
              "      <td>0</td>\n",
              "      <td>427</td>\n",
              "      <td>1844.0</td>\n",
              "      <td>NWL20</td>\n",
              "      <td>0</td>\n",
              "      <td>1</td>\n",
              "      <td>1</td>\n",
              "      <td>1</td>\n",
              "      <td>2.500000</td>\n",
              "      <td>40</td>\n",
              "      <td>16</td>\n",
              "      <td>20.312500</td>\n",
              "    </tr>\n",
              "  </tbody>\n",
              "</table>\n",
              "</div>\n",
              "      <button class=\"colab-df-convert\" onclick=\"convertToInteractive('df-15cc14c9-5b9a-4234-b61a-c11fc58a93c9')\"\n",
              "              title=\"Convert this dataframe to an interactive table.\"\n",
              "              style=\"display:none;\">\n",
              "        \n",
              "  <svg xmlns=\"http://www.w3.org/2000/svg\" height=\"24px\"viewBox=\"0 0 24 24\"\n",
              "       width=\"24px\">\n",
              "    <path d=\"M0 0h24v24H0V0z\" fill=\"none\"/>\n",
              "    <path d=\"M18.56 5.44l.94 2.06.94-2.06 2.06-.94-2.06-.94-.94-2.06-.94 2.06-2.06.94zm-11 1L8.5 8.5l.94-2.06 2.06-.94-2.06-.94L8.5 2.5l-.94 2.06-2.06.94zm10 10l.94 2.06.94-2.06 2.06-.94-2.06-.94-.94-2.06-.94 2.06-2.06.94z\"/><path d=\"M17.41 7.96l-1.37-1.37c-.4-.4-.92-.59-1.43-.59-.52 0-1.04.2-1.43.59L10.3 9.45l-7.72 7.72c-.78.78-.78 2.05 0 2.83L4 21.41c.39.39.9.59 1.41.59.51 0 1.02-.2 1.41-.59l7.78-7.78 2.81-2.81c.8-.78.8-2.07 0-2.86zM5.41 20L4 18.59l7.72-7.72 1.47 1.35L5.41 20z\"/>\n",
              "  </svg>\n",
              "      </button>\n",
              "      \n",
              "  <style>\n",
              "    .colab-df-container {\n",
              "      display:flex;\n",
              "      flex-wrap:wrap;\n",
              "      gap: 12px;\n",
              "    }\n",
              "\n",
              "    .colab-df-convert {\n",
              "      background-color: #E8F0FE;\n",
              "      border: none;\n",
              "      border-radius: 50%;\n",
              "      cursor: pointer;\n",
              "      display: none;\n",
              "      fill: #1967D2;\n",
              "      height: 32px;\n",
              "      padding: 0 0 0 0;\n",
              "      width: 32px;\n",
              "    }\n",
              "\n",
              "    .colab-df-convert:hover {\n",
              "      background-color: #E2EBFA;\n",
              "      box-shadow: 0px 1px 2px rgba(60, 64, 67, 0.3), 0px 1px 3px 1px rgba(60, 64, 67, 0.15);\n",
              "      fill: #174EA6;\n",
              "    }\n",
              "\n",
              "    [theme=dark] .colab-df-convert {\n",
              "      background-color: #3B4455;\n",
              "      fill: #D2E3FC;\n",
              "    }\n",
              "\n",
              "    [theme=dark] .colab-df-convert:hover {\n",
              "      background-color: #434B5C;\n",
              "      box-shadow: 0px 1px 3px 1px rgba(0, 0, 0, 0.15);\n",
              "      filter: drop-shadow(0px 1px 2px rgba(0, 0, 0, 0.3));\n",
              "      fill: #FFFFFF;\n",
              "    }\n",
              "  </style>\n",
              "\n",
              "      <script>\n",
              "        const buttonEl =\n",
              "          document.querySelector('#df-15cc14c9-5b9a-4234-b61a-c11fc58a93c9 button.colab-df-convert');\n",
              "        buttonEl.style.display =\n",
              "          google.colab.kernel.accessAllowed ? 'block' : 'none';\n",
              "\n",
              "        async function convertToInteractive(key) {\n",
              "          const element = document.querySelector('#df-15cc14c9-5b9a-4234-b61a-c11fc58a93c9');\n",
              "          const dataTable =\n",
              "            await google.colab.kernel.invokeFunction('convertToInteractive',\n",
              "                                                     [key], {});\n",
              "          if (!dataTable) return;\n",
              "\n",
              "          const docLinkHtml = 'Like what you see? Visit the ' +\n",
              "            '<a target=\"_blank\" href=https://colab.research.google.com/notebooks/data_table.ipynb>data table notebook</a>'\n",
              "            + ' to learn more about interactive tables.';\n",
              "          element.innerHTML = '';\n",
              "          dataTable['output_type'] = 'display_data';\n",
              "          await google.colab.output.renderOutput(dataTable, element);\n",
              "          const docLink = document.createElement('div');\n",
              "          docLink.innerHTML = docLinkHtml;\n",
              "          element.appendChild(docLink);\n",
              "        }\n",
              "      </script>\n",
              "    </div>\n",
              "  </div>\n",
              "  "
            ]
          },
          "metadata": {},
          "execution_count": 145
        }
      ]
    },
    {
      "cell_type": "code",
      "source": [
        "train_data = only_players_ratings[~only_players_ratings['game_id'].isin(test_ids)]\\\n",
        "            .drop(['game_id', 'nickname', 'player_rating'], axis = 1)\n",
        "test_data = only_players_ratings[only_players_ratings['game_id'].isin(test_ids)]\\\n",
        "            .drop(['game_id', 'nickname', 'player_rating'], axis = 1)"
      ],
      "metadata": {
        "id": "IPCGJ3DSY4UX"
      },
      "execution_count": null,
      "outputs": []
    },
    {
      "cell_type": "code",
      "source": [
        "features = pd.get_dummies(train_data)\n",
        "features = features.drop(['lexicon_NSWL20'], axis = 1)"
      ],
      "metadata": {
        "id": "TCioiyfJK-4C"
      },
      "execution_count": null,
      "outputs": []
    },
    {
      "cell_type": "code",
      "source": [
        "plt.figure(figsize = (15, 10))\n",
        "matrix = np.triu(features.corr())\n",
        "sns.heatmap(features.corr(method='spearman'), annot = True, mask = matrix, cmap = 'coolwarm')\n",
        "plt.title('Степень корреляции между показателями', fontsize = 14)\n",
        "plt.show()"
      ],
      "metadata": {
        "colab": {
          "base_uri": "https://localhost:8080/",
          "height": 698
        },
        "id": "bN9zelUWZ1jC",
        "outputId": "2e7e6d2a-51d9-4e4f-b6f8-515adf201390"
      },
      "execution_count": null,
      "outputs": [
        {
          "output_type": "display_data",
          "data": {
            "text/plain": [
              "<Figure size 1080x720 with 2 Axes>"
            ],
            "image/png": "[encoded data removed]"
          },
          "metadata": {}
        }
      ]
    },
    {
      "cell_type": "code",
      "source": [
        "features = features.drop('AVG_of_points', axis = 1)"
      ],
      "metadata": {
        "id": "iYPZBaoRZ25N"
      },
      "execution_count": null,
      "outputs": []
    },
    {
      "cell_type": "code",
      "source": [
        "test_data = pd.get_dummies(test_data)\n",
        "if 'lexicon_NSWL20' in test_data.columns:\n",
        "  test_data = test_data.drop(['lexicon_NSWL20', 'AVG_of_points'], axis = 1)\n",
        "else:\n",
        "  test_data = test_data.drop(['AVG_of_points'], axis = 1)"
      ],
      "metadata": {
        "id": "zxMnM6A3ZXWK"
      },
      "execution_count": null,
      "outputs": []
    },
    {
      "cell_type": "markdown",
      "source": [
        "### **Построение модели**"
      ],
      "metadata": {
        "id": "JqgWgxmZK12G"
      }
    },
    {
      "cell_type": "code",
      "source": [
        "from sklearn.model_selection import train_test_split"
      ],
      "metadata": {
        "id": "RcZNvzjoSXMx"
      },
      "execution_count": null,
      "outputs": []
    },
    {
      "cell_type": "code",
      "source": [
        "from sklearn.pipeline import make_pipeline\n",
        "from sklearn.preprocessing import PolynomialFeatures\n",
        "from sklearn.model_selection import GridSearchCV\n",
        "from sklearn.preprocessing import MinMaxScaler\n",
        "from sklearn.linear_model import Ridge"
      ],
      "metadata": {
        "id": "ixtUCHOTSYIc"
      },
      "execution_count": null,
      "outputs": []
    },
    {
      "cell_type": "code",
      "source": [
        "from sklearn.ensemble import RandomForestRegressor\n",
        "from sklearn.ensemble import GradientBoostingRegressor"
      ],
      "metadata": {
        "id": "jp2hz1awTro0"
      },
      "execution_count": null,
      "outputs": []
    },
    {
      "cell_type": "code",
      "source": [
        "from sklearn.metrics import r2_score\n",
        "rom sklearn.metrics import mean_absolute_error"
      ],
      "metadata": {
        "id": "wCb5-1rkywU8"
      },
      "execution_count": null,
      "outputs": []
    },
    {
      "cell_type": "code",
      "source": [
        "targets = only_players_ratings[~only_players_ratings['game_id'].isin(test_ids)]['player_rating']"
      ],
      "metadata": {
        "id": "wm0vbKiLK5LU"
      },
      "execution_count": null,
      "outputs": []
    },
    {
      "cell_type": "code",
      "source": [
        "x_train, x_test, y_train, y_test = train_test_split(features, targets, test_size = 0.2, \n",
        "                                                    random_state = 17)"
      ],
      "metadata": {
        "id": "t1u8fsCCOJl5"
      },
      "execution_count": null,
      "outputs": []
    },
    {
      "cell_type": "code",
      "source": [
        "pipe = make_pipeline(MinMaxScaler(), PolynomialFeatures(), Ridge())\n",
        "param_grid = {'polynomialfeatures__degree': [1, 2, 3],\n",
        "              'ridge__alpha': [0.01, 0.05, 0.1, 0.5, 1, 10, 50, 100]}\n",
        "grid = GridSearchCV(pipe, param_grid, cv=5)\n",
        "grid.fit(x_train, y_train)"
      ],
      "metadata": {
        "colab": {
          "base_uri": "https://localhost:8080/"
        },
        "id": "FH-9YmnMPjI2",
        "outputId": "ffa0a3ff-6746-4bd8-c5fe-5aa3473dbd89"
      },
      "execution_count": null,
      "outputs": [
        {
          "output_type": "execute_result",
          "data": {
            "text/plain": [
              "GridSearchCV(cv=5,\n",
              "             estimator=Pipeline(steps=[('minmaxscaler', MinMaxScaler()),\n",
              "                                       ('polynomialfeatures',\n",
              "                                        PolynomialFeatures()),\n",
              "                                       ('ridge', Ridge())]),\n",
              "             param_grid={'polynomialfeatures__degree': [1, 2, 3],\n",
              "                         'ridge__alpha': [0.01, 0.05, 0.1, 0.5, 1, 10, 50,\n",
              "                                          100]})"
            ]
          },
          "metadata": {},
          "execution_count": 156
        }
      ]
    },
    {
      "cell_type": "code",
      "source": [
        "print('RIDGE')\n",
        "print('*' * 35)\n",
        "print(f'Правильность на обучающем наборе: {round(grid.score(x_train, y_train), 4)}')\n",
        "print()\n",
        "print(f'Правильность на тестовом наборе: {round(grid.score(x_test, y_test), 4)}')"
      ],
      "metadata": {
        "colab": {
          "base_uri": "https://localhost:8080/"
        },
        "id": "0sOM_v48OTmQ",
        "outputId": "b73faa4f-3d11-418e-afe0-db3a4da21c1e"
      },
      "execution_count": null,
      "outputs": [
        {
          "output_type": "stream",
          "name": "stdout",
          "text": [
            "RIDGE\n",
            "***********************************\n",
            "Правильность на обучающем наборе: 0.6815\n",
            "\n",
            "Правильность на тестовом наборе: 0.671\n"
          ]
        }
      ]
    },
    {
      "cell_type": "code",
      "source": [
        "rfr = RandomForestRegressor(n_estimators = 350, max_depth = 12, random_state = 17, n_jobs = -1)\n",
        "rfr_model = rfr.fit(x_train, y_train)\n",
        "rfr_predict = rfr_model.predict(x_test)\n",
        "\n",
        "print('RandomForestRegressor')\n",
        "print('*' * 35)\n",
        "print(f'Правильность на обучающем наборе: {round(rfr_model.score(x_train, y_train), 4)}')\n",
        "print()\n",
        "print(f'Правильность на тестовом наборе: {round(rfr_model.score(x_test, y_test), 4)}')"
      ],
      "metadata": {
        "colab": {
          "base_uri": "https://localhost:8080/"
        },
        "id": "3NV8m-eBTvuY",
        "outputId": "cc664fc0-51aa-4f6f-8ec5-2e2aad5388c0"
      },
      "execution_count": null,
      "outputs": [
        {
          "output_type": "stream",
          "name": "stdout",
          "text": [
            "RandomForestRegressor\n",
            "***********************************\n",
            "Правильность на обучающем наборе: 0.773\n",
            "\n",
            "Правильность на тестовом наборе: 0.685\n"
          ]
        }
      ]
    },
    {
      "cell_type": "code",
      "source": [
        "gbr = GradientBoostingRegressor(n_estimators = 300, max_depth = 7,  \n",
        "                                learning_rate = 0.05, random_state = 17)\n",
        "gbr_model = gbr.fit(x_train, y_train)\n",
        "gbr_predict = gbr_model.predict(x_test)\n",
        "\n",
        "print('GradientBoostingRegressor')\n",
        "print('*' * 35)\n",
        "print(f'Правильность на обучающем наборе: {round(gbr_model.score(x_train, y_train), 4)}')\n",
        "print()\n",
        "print(f'Правильность на тестовом наборе: {round(gbr_model.score(x_test, y_test), 4)}')"
      ],
      "metadata": {
        "colab": {
          "base_uri": "https://localhost:8080/"
        },
        "id": "bT7ROyghUvR0",
        "outputId": "5169d99d-2c79-487e-f333-366933df15bb"
      },
      "execution_count": null,
      "outputs": [
        {
          "output_type": "stream",
          "name": "stdout",
          "text": [
            "GradientBoostingRegressor\n",
            "***********************************\n",
            "Правильность на обучающем наборе: 0.7776\n",
            "\n",
            "Правильность на тестовом наборе: 0.698\n"
          ]
        }
      ]
    }
  ]
}